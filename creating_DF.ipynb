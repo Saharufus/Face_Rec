{
 "cells": [
  {
   "cell_type": "code",
   "execution_count": 1,
   "id": "e075947a",
   "metadata": {
    "ExecuteTime": {
     "end_time": "2022-01-31T12:15:12.213710Z",
     "start_time": "2022-01-31T12:15:10.992978Z"
    }
   },
   "outputs": [],
   "source": [
    "import numpy as np\n",
    "import os\n",
    "import conf as config\n",
    "import creating_DF as cdf\n",
    "import cv2\n",
    "from sklearn.model_selection import train_test_split\n",
    "import random\n",
    "from collections import Counter\n",
    "from random import sample,seed\n",
    "seed(10)"
   ]
  },
  {
   "cell_type": "code",
   "execution_count": null,
   "id": "87b77426",
   "metadata": {},
   "outputs": [],
   "source": [
    "# We create lists with all the people from LFW dataset"
   ]
  },
  {
   "cell_type": "code",
   "execution_count": null,
   "id": "67ffd070",
   "metadata": {
    "ExecuteTime": {
     "end_time": "2022-01-30T15:04:37.409240Z",
     "start_time": "2022-01-30T15:04:37.391183Z"
    }
   },
   "outputs": [],
   "source": [
    "dir_list = os.listdir(config.NEG_PATH)\n",
    "neg_list = sorted(dir_list)"
   ]
  },
  {
   "cell_type": "code",
   "execution_count": null,
   "id": "1cea4714",
   "metadata": {
    "ExecuteTime": {
     "end_time": "2022-01-30T19:31:50.021538Z",
     "start_time": "2022-01-30T19:31:50.017899Z"
    }
   },
   "outputs": [],
   "source": [
    "# We get the names and we look for those people that appears more than 10 times"
   ]
  },
  {
   "cell_type": "code",
   "execution_count": null,
   "id": "7edddf28",
   "metadata": {
    "ExecuteTime": {
     "end_time": "2022-01-30T15:38:29.012330Z",
     "start_time": "2022-01-30T15:38:29.003134Z"
    }
   },
   "outputs": [],
   "source": [
    "name = [person[:-9] for person in neg_list]\n",
    "freq_person = Counter(name)\n",
    "pairs = freq_person.items()\n",
    "filtered_people = {key: value for key, value in pairs if value > 9}"
   ]
  },
  {
   "cell_type": "code",
   "execution_count": null,
   "id": "78f2e577",
   "metadata": {},
   "outputs": [],
   "source": [
    "# We save half of the pictures of those people that appears more than 10 times in the anchor folder \n",
    "#and the other half in the positive file"
   ]
  },
  {
   "cell_type": "code",
   "execution_count": null,
   "id": "6fd287b1",
   "metadata": {
    "ExecuteTime": {
     "end_time": "2022-01-30T15:38:29.550875Z",
     "start_time": "2022-01-30T15:38:29.542111Z"
    }
   },
   "outputs": [],
   "source": [
    "new_path_anchor = []\n",
    "new_path_positive = []\n",
    "for k,v in filtered_people.items():\n",
    "    for i in range(1,v//2+1):\n",
    "        new_path_anchor.append(k + '_' + '0'*(4-len(str(i))) + str(i) +'.jpg')\n",
    "    for i in range(v//2+1,((v//2)*2)+1):\n",
    "        new_path_positive.append(k + '_' + '0'*(4-len(str(i))) + str(i) +'.jpg')"
   ]
  },
  {
   "cell_type": "code",
   "execution_count": null,
   "id": "5c8dc11a",
   "metadata": {
    "ExecuteTime": {
     "end_time": "2022-01-30T15:38:29.738225Z",
     "start_time": "2022-01-30T15:38:29.731120Z"
    }
   },
   "outputs": [],
   "source": [
    "len(new_path_anchor) == len(new_path_positive) "
   ]
  },
  {
   "cell_type": "code",
   "execution_count": null,
   "id": "c9548aef",
   "metadata": {},
   "outputs": [],
   "source": [
    "# We changed the name of the pictures of ourselves so that it follows the same logic as in the lfw dataset."
   ]
  },
  {
   "cell_type": "code",
   "execution_count": null,
   "id": "34f6a2e8",
   "metadata": {
    "ExecuteTime": {
     "end_time": "2022-01-31T11:45:32.712434Z",
     "start_time": "2022-01-31T11:45:32.700409Z"
    }
   },
   "outputs": [],
   "source": [
    "path = '/Users/julietastaryfurmanshalom/OneDrive/ITC/Face_Rec/sahar/anchor'\n",
    "name = 'Sahar_Garber'"
   ]
  },
  {
   "cell_type": "code",
   "execution_count": null,
   "id": "24eddc19",
   "metadata": {
    "ExecuteTime": {
     "end_time": "2022-01-31T11:45:33.069568Z",
     "start_time": "2022-01-31T11:45:33.056860Z"
    }
   },
   "outputs": [],
   "source": [
    "cdf.changing_names(path,name)"
   ]
  },
  {
   "cell_type": "code",
   "execution_count": null,
   "id": "0292cf26",
   "metadata": {},
   "outputs": [],
   "source": [
    "# We make sure we have all the images in all of the folders"
   ]
  },
  {
   "cell_type": "code",
   "execution_count": null,
   "id": "e26330b4",
   "metadata": {
    "ExecuteTime": {
     "end_time": "2022-01-30T18:36:21.683348Z",
     "start_time": "2022-01-30T18:36:21.679591Z"
    }
   },
   "outputs": [],
   "source": [
    "src_path = '/Users/julietastaryfurmanshalom/OneDrive/ITC/Face_Rec/data/negative/'\n",
    "dest_path = '/Users/julietastaryfurmanshalom/OneDrive/ITC/Face_Rec/data/anchor/'"
   ]
  },
  {
   "cell_type": "code",
   "execution_count": null,
   "id": "9bc4fe83",
   "metadata": {
    "ExecuteTime": {
     "end_time": "2022-01-30T18:36:24.988387Z",
     "start_time": "2022-01-30T18:36:22.846739Z"
    }
   },
   "outputs": [],
   "source": [
    "cdf.add_to_folder(new_path_anchor, src_path, dest_path)"
   ]
  },
  {
   "cell_type": "code",
   "execution_count": null,
   "id": "01f052ef",
   "metadata": {
    "ExecuteTime": {
     "end_time": "2022-01-31T11:50:37.680704Z",
     "start_time": "2022-01-31T11:50:37.645173Z"
    }
   },
   "outputs": [],
   "source": [
    "pos_images = os.listdir(config.POS_PATH)\n",
    "anchor_images = os.listdir(config.ANC_PATH)\n",
    "all_images = pos_images + anchor_images"
   ]
  },
  {
   "cell_type": "code",
   "execution_count": null,
   "id": "552df494",
   "metadata": {
    "ExecuteTime": {
     "end_time": "2022-01-31T11:50:39.405026Z",
     "start_time": "2022-01-31T11:50:39.401739Z"
    }
   },
   "outputs": [],
   "source": [
    "src_path = '/Users/julietastaryfurmanshalom/OneDrive/ITC/Face_Rec/data/positive/'\n",
    "dest_path = '/Users/julietastaryfurmanshalom/OneDrive/ITC/Face_Rec/data/negative/'"
   ]
  },
  {
   "cell_type": "code",
   "execution_count": null,
   "id": "d7ba9e3f",
   "metadata": {
    "ExecuteTime": {
     "end_time": "2022-01-31T11:50:40.367078Z",
     "start_time": "2022-01-31T11:50:40.359857Z"
    }
   },
   "outputs": [],
   "source": [
    "sample_all_images = sample(list(set(all_images)),len(pos_images))"
   ]
  },
  {
   "cell_type": "code",
   "execution_count": null,
   "id": "77e4ba2a",
   "metadata": {
    "ExecuteTime": {
     "end_time": "2022-01-30T19:00:30.919050Z",
     "start_time": "2022-01-30T19:00:28.920475Z"
    }
   },
   "outputs": [],
   "source": [
    "add_to_folder(pos_images, src_path, dest_path)"
   ]
  },
  {
   "cell_type": "code",
   "execution_count": null,
   "id": "7955ef0f",
   "metadata": {
    "ExecuteTime": {
     "end_time": "2022-01-31T11:50:55.691195Z",
     "start_time": "2022-01-31T11:50:55.688437Z"
    }
   },
   "outputs": [],
   "source": [
    "src_path = '/Users/julietastaryfurmanshalom/OneDrive/ITC/Face_Rec/data/negative/'\n",
    "dest_path = '/Users/julietastaryfurmanshalom/OneDrive/ITC/Face_Rec/data/negative_cleaned/'"
   ]
  },
  {
   "cell_type": "code",
   "execution_count": null,
   "id": "cf8a3abe",
   "metadata": {
    "ExecuteTime": {
     "end_time": "2022-01-31T12:01:40.035046Z",
     "start_time": "2022-01-31T12:01:36.803904Z"
    }
   },
   "outputs": [],
   "source": [
    "add_to_folder(sample_all_images, src_path, dest_path)"
   ]
  },
  {
   "cell_type": "code",
   "execution_count": null,
   "id": "061b35f7",
   "metadata": {
    "ExecuteTime": {
     "end_time": "2022-01-31T12:12:39.663358Z",
     "start_time": "2022-01-31T12:12:39.657231Z"
    }
   },
   "outputs": [],
   "source": [
    "## We create the dataset. This are the only cells you should run!!! (The data is already good)"
   ]
  },
  {
   "cell_type": "code",
   "execution_count": 3,
   "id": "32aa96d3",
   "metadata": {
    "ExecuteTime": {
     "end_time": "2022-01-31T12:16:17.631378Z",
     "start_time": "2022-01-31T12:15:54.308718Z"
    },
    "scrolled": false
   },
   "outputs": [
    {
     "name": "stdout",
     "output_type": "stream",
     "text": [
      "/Users/julietastaryfurmanshalom/OneDrive/ITC/Face_Rec/data/anchor\n",
      "/Users/julietastaryfurmanshalom/OneDrive/ITC/Face_Rec/data/positive\n",
      "/Users/julietastaryfurmanshalom/OneDrive/ITC/Face_Rec/data/negative_cleaned\n"
     ]
    }
   ],
   "source": [
    "X,y = cdf.load_data()"
   ]
  },
  {
   "cell_type": "code",
   "execution_count": 4,
   "id": "f153c8e1",
   "metadata": {
    "ExecuteTime": {
     "end_time": "2022-01-31T12:16:24.235279Z",
     "start_time": "2022-01-31T12:16:17.639817Z"
    }
   },
   "outputs": [],
   "source": [
    "np.save('X_array', X)"
   ]
  },
  {
   "cell_type": "code",
   "execution_count": 5,
   "id": "3e464261",
   "metadata": {
    "ExecuteTime": {
     "end_time": "2022-01-31T12:16:24.274092Z",
     "start_time": "2022-01-31T12:16:24.240403Z"
    }
   },
   "outputs": [],
   "source": [
    "np.save('y_array', y)"
   ]
  },
  {
   "cell_type": "code",
   "execution_count": null,
   "id": "ecec6349",
   "metadata": {},
   "outputs": [],
   "source": []
  }
 ],
 "metadata": {
  "kernelspec": {
   "display_name": "Python 3 (ipykernel)",
   "language": "python",
   "name": "python3"
  },
  "language_info": {
   "codemirror_mode": {
    "name": "ipython",
    "version": 3
   },
   "file_extension": ".py",
   "mimetype": "text/x-python",
   "name": "python",
   "nbconvert_exporter": "python",
   "pygments_lexer": "ipython3",
   "version": "3.8.12"
  },
  "toc": {
   "base_numbering": 1,
   "nav_menu": {},
   "number_sections": true,
   "sideBar": true,
   "skip_h1_title": false,
   "title_cell": "Table of Contents",
   "title_sidebar": "Contents",
   "toc_cell": false,
   "toc_position": {},
   "toc_section_display": true,
   "toc_window_display": false
  }
 },
 "nbformat": 4,
 "nbformat_minor": 5
}
