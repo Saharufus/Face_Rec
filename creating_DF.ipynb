{
 "cells": [
  {
   "cell_type": "markdown",
   "id": "358e1a7d",
   "metadata": {},
   "source": [
    "# CREATING DATAFRAME"
   ]
  },
  {
   "cell_type": "code",
   "execution_count": 1,
   "id": "e075947a",
   "metadata": {
    "ExecuteTime": {
     "end_time": "2022-02-05T15:40:20.021041Z",
     "start_time": "2022-02-05T15:40:19.432715Z"
    }
   },
   "outputs": [],
   "source": [
    "import numpy as np\n",
    "import os\n",
    "import conf as config\n",
    "import creating_DF as cdf\n",
    "import cv2\n",
    "import random\n",
    "import glob\n",
    "import pandas as pd\n",
    "from collections import Counter\n",
    "from random import sample,seed\n",
    "seed(123)"
   ]
  },
  {
   "cell_type": "markdown",
   "id": "1f716fa1",
   "metadata": {},
   "source": [
    "We need to make sure we have pictures of ourselves and from random people in all of our folders in a balanced way (positive, negative and anchor)."
   ]
  },
  {
   "cell_type": "markdown",
   "id": "56c89604",
   "metadata": {},
   "source": [
    "⚠️⚠️⚠️ `This code was ran once with some variations before the folders were correctly filled with the desired images, you only need to run the last cells`"
   ]
  },
  {
   "cell_type": "markdown",
   "id": "5ee1b80b",
   "metadata": {},
   "source": [
    "**We create lists with all the people from LFW dataset**"
   ]
  },
  {
   "cell_type": "code",
   "execution_count": null,
   "id": "67ffd070",
   "metadata": {
    "ExecuteTime": {
     "end_time": "2022-02-03T18:11:58.119482Z",
     "start_time": "2022-02-03T18:11:58.013434Z"
    }
   },
   "outputs": [],
   "source": [
    "dir_list = os.listdir(config.NEG_PATH)\n",
    "neg_list = sorted(dir_list)"
   ]
  },
  {
   "cell_type": "markdown",
   "id": "4aa5b6f8",
   "metadata": {
    "ExecuteTime": {
     "end_time": "2022-01-30T19:31:50.021538Z",
     "start_time": "2022-01-30T19:31:50.017899Z"
    }
   },
   "source": [
    "**We get the names and we look for those people that appears more than 10 times**"
   ]
  },
  {
   "cell_type": "code",
   "execution_count": null,
   "id": "7edddf28",
   "metadata": {
    "ExecuteTime": {
     "end_time": "2022-02-03T18:11:58.354435Z",
     "start_time": "2022-02-03T18:11:58.341815Z"
    }
   },
   "outputs": [],
   "source": [
    "name = [person[:-9] for person in neg_list]\n",
    "freq_person = Counter(name)\n",
    "pairs = freq_person.items()\n",
    "filtered_people = {key: value for key, value in pairs if value > 9}"
   ]
  },
  {
   "cell_type": "code",
   "execution_count": null,
   "id": "d622a177",
   "metadata": {
    "ExecuteTime": {
     "end_time": "2022-02-03T18:11:58.493849Z",
     "start_time": "2022-02-03T18:11:58.475885Z"
    }
   },
   "outputs": [],
   "source": [
    "filtered_people "
   ]
  },
  {
   "cell_type": "code",
   "execution_count": null,
   "id": "9597d98b",
   "metadata": {
    "ExecuteTime": {
     "end_time": "2022-02-03T18:11:58.634716Z",
     "start_time": "2022-02-03T18:11:58.630423Z"
    }
   },
   "outputs": [],
   "source": [
    "for key in filtered_people.keys():\n",
    "    if key != 'Julieta_Staryfurman' and key != 'Sahar_Garber' and key != 'Noam_Pinhas_Cohen':\n",
    "        filtered_people[key] = filtered_people[key] // 2"
   ]
  },
  {
   "cell_type": "code",
   "execution_count": null,
   "id": "34a01d47",
   "metadata": {
    "ExecuteTime": {
     "end_time": "2022-02-03T18:11:58.765062Z",
     "start_time": "2022-02-03T18:11:58.761220Z"
    }
   },
   "outputs": [],
   "source": [
    "#nr_rows = 3 * (25**2)\n",
    "nr_rows = 0\n",
    "for value in filtered_people.values():\n",
    "    nr_rows += (value**2)\n"
   ]
  },
  {
   "cell_type": "code",
   "execution_count": null,
   "id": "400cc492",
   "metadata": {
    "ExecuteTime": {
     "end_time": "2022-02-03T18:11:59.306049Z",
     "start_time": "2022-02-03T18:11:59.301074Z"
    }
   },
   "outputs": [],
   "source": [
    "len(filtered_people)"
   ]
  },
  {
   "cell_type": "code",
   "execution_count": null,
   "id": "5f5d69de",
   "metadata": {
    "ExecuteTime": {
     "end_time": "2022-02-03T18:11:59.647960Z",
     "start_time": "2022-02-03T18:11:59.642845Z"
    }
   },
   "outputs": [],
   "source": [
    "nr_rows"
   ]
  },
  {
   "cell_type": "code",
   "execution_count": null,
   "id": "aea94f64",
   "metadata": {
    "ExecuteTime": {
     "end_time": "2022-02-03T18:12:00.190294Z",
     "start_time": "2022-02-03T18:12:00.179991Z"
    }
   },
   "outputs": [],
   "source": [
    "filtered_people"
   ]
  },
  {
   "cell_type": "markdown",
   "id": "f0f9cc9e",
   "metadata": {},
   "source": [
    "**We save half of the pictures of those people that appears more than 10 times in the anchor folder and the other half in the positive file**"
   ]
  },
  {
   "cell_type": "code",
   "execution_count": null,
   "id": "6fd287b1",
   "metadata": {
    "ExecuteTime": {
     "end_time": "2022-02-02T16:20:53.734729Z",
     "start_time": "2022-02-02T16:20:53.725234Z"
    }
   },
   "outputs": [],
   "source": [
    "new_path_anchor = []\n",
    "new_path_positive = []\n",
    "for k,v in filtered_people.items():\n",
    "    for i in range(1,v//2+1):\n",
    "        new_path_anchor.append(k + '_' + '0'*(4-len(str(i))) + str(i) +'.jpg')\n",
    "    for i in range(v//2+1,((v//2)*2)+1):\n",
    "        new_path_positive.append(k + '_' + '0'*(4-len(str(i))) + str(i) +'.jpg')"
   ]
  },
  {
   "cell_type": "code",
   "execution_count": null,
   "id": "5c8dc11a",
   "metadata": {
    "ExecuteTime": {
     "end_time": "2022-02-02T16:20:53.743235Z",
     "start_time": "2022-02-02T16:20:53.737456Z"
    }
   },
   "outputs": [],
   "source": [
    "len(new_path_anchor) == len(new_path_positive) "
   ]
  },
  {
   "cell_type": "markdown",
   "id": "53fcfdf1",
   "metadata": {},
   "source": [
    "**We changed the name of the pictures of ourselves so that it follows the same logic as in the lfw dataset.**"
   ]
  },
  {
   "cell_type": "code",
   "execution_count": null,
   "id": "34f6a2e8",
   "metadata": {
    "ExecuteTime": {
     "end_time": "2022-02-02T16:20:53.759917Z",
     "start_time": "2022-02-02T16:20:53.747480Z"
    }
   },
   "outputs": [],
   "source": [
    "path = '/Users/julietastaryfurmanshalom/OneDrive/ITC/Face_Rec/sahar/anchor'\n",
    "name = 'Sahar_Garber'"
   ]
  },
  {
   "cell_type": "code",
   "execution_count": null,
   "id": "24eddc19",
   "metadata": {
    "ExecuteTime": {
     "end_time": "2022-02-02T16:20:53.778671Z",
     "start_time": "2022-02-02T16:20:53.763636Z"
    }
   },
   "outputs": [],
   "source": [
    "cdf.changing_names(path,name)"
   ]
  },
  {
   "cell_type": "markdown",
   "id": "7903f1e3",
   "metadata": {},
   "source": [
    "**We make sure we have all the images in all of the folders**"
   ]
  },
  {
   "cell_type": "code",
   "execution_count": null,
   "id": "e26330b4",
   "metadata": {
    "ExecuteTime": {
     "end_time": "2022-02-02T16:20:53.783936Z",
     "start_time": "2022-02-02T16:20:53.781018Z"
    }
   },
   "outputs": [],
   "source": [
    "src_path = '/Users/julietastaryfurmanshalom/OneDrive/ITC/Face_Rec/data/negative/'\n",
    "dest_path = '/Users/julietastaryfurmanshalom/OneDrive/ITC/Face_Rec/data/anchor/'"
   ]
  },
  {
   "cell_type": "code",
   "execution_count": null,
   "id": "9bc4fe83",
   "metadata": {
    "ExecuteTime": {
     "end_time": "2022-02-02T16:20:54.601769Z",
     "start_time": "2022-02-02T16:20:53.786660Z"
    }
   },
   "outputs": [],
   "source": [
    "cdf.add_to_folder(new_path_anchor, src_path, dest_path)"
   ]
  },
  {
   "cell_type": "code",
   "execution_count": null,
   "id": "01f052ef",
   "metadata": {
    "ExecuteTime": {
     "end_time": "2022-02-02T16:20:54.617693Z",
     "start_time": "2022-02-02T16:20:54.604715Z"
    }
   },
   "outputs": [],
   "source": [
    "pos_images = os.listdir(config.POS_PATH)\n",
    "anchor_images = os.listdir(config.ANC_PATH)\n",
    "all_images = pos_images + anchor_images"
   ]
  },
  {
   "cell_type": "code",
   "execution_count": null,
   "id": "552df494",
   "metadata": {
    "ExecuteTime": {
     "end_time": "2022-02-02T16:20:54.623420Z",
     "start_time": "2022-02-02T16:20:54.619290Z"
    }
   },
   "outputs": [],
   "source": [
    "src_path = '/Users/julietastaryfurmanshalom/OneDrive/ITC/Face_Rec/data/positive/'\n",
    "dest_path = '/Users/julietastaryfurmanshalom/OneDrive/ITC/Face_Rec/data/negative/'"
   ]
  },
  {
   "cell_type": "code",
   "execution_count": null,
   "id": "d7ba9e3f",
   "metadata": {
    "ExecuteTime": {
     "end_time": "2022-02-02T16:20:54.632843Z",
     "start_time": "2022-02-02T16:20:54.626294Z"
    }
   },
   "outputs": [],
   "source": [
    "sample_all_images = sample(list(set(all_images)),len(pos_images))"
   ]
  },
  {
   "cell_type": "code",
   "execution_count": null,
   "id": "77e4ba2a",
   "metadata": {
    "ExecuteTime": {
     "end_time": "2022-02-02T16:20:57.507075Z",
     "start_time": "2022-02-02T16:20:54.640160Z"
    }
   },
   "outputs": [],
   "source": [
    "cdf.add_to_folder(pos_images, src_path, dest_path)"
   ]
  },
  {
   "cell_type": "code",
   "execution_count": null,
   "id": "7955ef0f",
   "metadata": {
    "ExecuteTime": {
     "end_time": "2022-02-02T16:20:57.514123Z",
     "start_time": "2022-02-02T16:20:57.508839Z"
    }
   },
   "outputs": [],
   "source": [
    "src_path = '/Users/julietastaryfurmanshalom/OneDrive/ITC/Face_Rec/data/negative/'\n",
    "dest_path = '/Users/julietastaryfurmanshalom/OneDrive/ITC/Face_Rec/data/negative_cleaned/'"
   ]
  },
  {
   "cell_type": "code",
   "execution_count": null,
   "id": "cf8a3abe",
   "metadata": {
    "ExecuteTime": {
     "end_time": "2022-02-02T16:20:57.673177Z",
     "start_time": "2022-02-02T16:20:57.517731Z"
    }
   },
   "outputs": [],
   "source": [
    "add_to_folder(sample_all_images, src_path, dest_path)"
   ]
  },
  {
   "cell_type": "markdown",
   "id": "614d1e6d",
   "metadata": {
    "ExecuteTime": {
     "end_time": "2022-01-31T12:12:39.663358Z",
     "start_time": "2022-01-31T12:12:39.657231Z"
    }
   },
   "source": [
    "🚀🚀🚀**We create the dataset. This are the only cells you should run!!!**"
   ]
  },
  {
   "cell_type": "code",
   "execution_count": 2,
   "id": "af5c2fcc",
   "metadata": {
    "ExecuteTime": {
     "end_time": "2022-02-05T15:40:35.134647Z",
     "start_time": "2022-02-05T15:40:27.712354Z"
    }
   },
   "outputs": [
    {
     "name": "stdout",
     "output_type": "stream",
     "text": [
      "(56434,)\n",
      "(56434,)\n",
      "(56434,)\n"
     ]
    }
   ],
   "source": [
    "anchor, positive, negative = cdf.load_data()"
   ]
  },
  {
   "cell_type": "code",
   "execution_count": 3,
   "id": "47d3ac14",
   "metadata": {
    "ExecuteTime": {
     "end_time": "2022-02-05T15:40:35.241733Z",
     "start_time": "2022-02-05T15:40:35.137129Z"
    }
   },
   "outputs": [],
   "source": [
    "df = cdf.create_df(anchor,positive,negative)"
   ]
  },
  {
   "cell_type": "code",
   "execution_count": 4,
   "id": "59c3eace",
   "metadata": {
    "ExecuteTime": {
     "end_time": "2022-02-05T15:40:52.697865Z",
     "start_time": "2022-02-05T15:40:35.243221Z"
    }
   },
   "outputs": [],
   "source": [
    "df = cdf.delete_bad_labels(df)"
   ]
  },
  {
   "cell_type": "code",
   "execution_count": 5,
   "id": "6d9aa935",
   "metadata": {
    "ExecuteTime": {
     "end_time": "2022-02-05T15:40:53.173883Z",
     "start_time": "2022-02-05T15:40:52.701063Z"
    }
   },
   "outputs": [],
   "source": [
    "cdf.save_df(df)"
   ]
  },
  {
   "cell_type": "code",
   "execution_count": null,
   "id": "ce44819e",
   "metadata": {},
   "outputs": [],
   "source": []
  },
  {
   "cell_type": "code",
   "execution_count": null,
   "id": "5f613c3f",
   "metadata": {},
   "outputs": [],
   "source": []
  },
  {
   "cell_type": "code",
   "execution_count": null,
   "id": "411e6640",
   "metadata": {},
   "outputs": [],
   "source": []
  },
  {
   "cell_type": "code",
   "execution_count": 6,
   "id": "6ffbcc9a",
   "metadata": {
    "ExecuteTime": {
     "end_time": "2022-02-05T15:46:58.282537Z",
     "start_time": "2022-02-05T15:46:58.279739Z"
    }
   },
   "outputs": [],
   "source": [
    "#### POTENCIALLY WILL BE DELETED"
   ]
  },
  {
   "cell_type": "code",
   "execution_count": null,
   "id": "96c9f2b4",
   "metadata": {
    "ExecuteTime": {
     "end_time": "2022-02-03T15:10:51.633457Z",
     "start_time": "2022-02-03T15:10:51.629334Z"
    }
   },
   "outputs": [],
   "source": [
    "def rescale_resize(img):\n",
    "    \"\"\"\n",
    "    This function rescales a given image\n",
    "    :param img: image to resize\n",
    "    :return: resized image\n",
    "    \"\"\"\n",
    "    return cv2.resize(img, (105, 105)) / 255"
   ]
  },
  {
   "cell_type": "code",
   "execution_count": null,
   "id": "824a4b70",
   "metadata": {
    "ExecuteTime": {
     "end_time": "2022-02-03T15:10:52.097911Z",
     "start_time": "2022-02-03T15:10:52.090234Z"
    }
   },
   "outputs": [],
   "source": [
    "def load_from_path(path,nr_rows,filtered_people):\n",
    "    \"\"\"\n",
    "    This function loads from a given path of a folder, all the content to an array\n",
    "    :param path: the path of the folder\n",
    "    :param img_num: number of images in the folder\n",
    "    :return: np array with the content of the folder\n",
    "    \"\"\"\n",
    "    imgs = []\n",
    "    dir_list = os.listdir(path)\n",
    "    \n",
    "    if 'negative_cleaned' in path:\n",
    "        for i in range(nr_rows):\n",
    "            sample = random.sample(dir_list,1)[0]\n",
    "            img = cv2.imread(os.path.join(path, sample))\n",
    "            img = rescale_resize(img)\n",
    "            imgs.append(img)\n",
    "        \n",
    "    \n",
    "    \n",
    "    else:\n",
    "        dir_list = sorted(dir_list)\n",
    "\n",
    "        img_num = len(dir_list)\n",
    "        for i in range(img_num):\n",
    "            if 'anchor' in path:\n",
    "                img = cv2.imread(os.path.join(path, dir_list[i]))\n",
    "                img = rescale_resize(img)       \n",
    "                for _ in range(filtered_people[dir_list[i][:-9]]):\n",
    "                    imgs.append(img)\n",
    "\n",
    "            elif 'positive' in path:\n",
    "                name = dir_list[i][:-9]\n",
    "                if name != \"\":\n",
    "                    files = []\n",
    "                    for name in glob.glob(path + name + '*'):\n",
    "                        files.append(name)\n",
    "                    files = sorted(files)\n",
    "                    for file in files:\n",
    "                        if file != \"\":\n",
    "                            img = cv2.imread(file)\n",
    "                            img = rescale_resize(img)\n",
    "                            imgs.append(img)\n",
    "\n",
    "\n",
    "   \n",
    "    return np.array(imgs)"
   ]
  },
  {
   "cell_type": "code",
   "execution_count": null,
   "id": "65ec27c5",
   "metadata": {
    "ExecuteTime": {
     "end_time": "2022-02-03T18:12:05.281304Z",
     "start_time": "2022-02-03T18:12:05.272777Z"
    }
   },
   "outputs": [],
   "source": [
    "def df_with_path(path,nr_rows,filtered_people):\n",
    "    \"\"\"\n",
    "    This function loads from a given path of a folder, all the content to an array\n",
    "    :param path: the path of the folder\n",
    "    :param img_num: number of images in the folder\n",
    "    :return: np array with the content of the folder\n",
    "    \"\"\"\n",
    "    paths = []\n",
    "    dir_list = os.listdir(path)\n",
    "    \n",
    "    if 'negative_cleaned' in path:\n",
    "        for i in range(nr_rows):\n",
    "            sample = random.sample(dir_list,1)[0]\n",
    "            paths.append(sample)\n",
    "    \n",
    "    else:\n",
    "        dir_list = sorted(dir_list)\n",
    "        \n",
    "        img_num = len(dir_list)\n",
    "        for i in range(img_num):\n",
    "            if 'anchor' in path:       \n",
    "                for _ in range(filtered_people[dir_list[i][:-9]]):\n",
    "                    paths.append(dir_list[i])\n",
    "\n",
    "            elif 'positive' in path:\n",
    "                name = dir_list[i][:-9]\n",
    "                if name != \"\":\n",
    "                    files = []\n",
    "                    for name in glob.glob(path + name + '*'):\n",
    "                        files.append(name)\n",
    "                    files = sorted(files)\n",
    "                    for file in files:\n",
    "                        if file != \"\":\n",
    "                            paths.append(file.split(\"/\")[-1])\n",
    "                     \n",
    "\n",
    "\n",
    "   \n",
    "    return np.array(paths)"
   ]
  },
  {
   "cell_type": "code",
   "execution_count": null,
   "id": "84b3bad6",
   "metadata": {
    "ExecuteTime": {
     "end_time": "2022-02-03T18:12:14.458625Z",
     "start_time": "2022-02-03T18:12:05.855798Z"
    }
   },
   "outputs": [],
   "source": [
    "pos = df_with_path('/Users/julietastaryfurmanshalom/OneDrive/ITC/Face_Rec/data/positive/',nr_rows,filtered_people)"
   ]
  },
  {
   "cell_type": "code",
   "execution_count": null,
   "id": "d060f4c0",
   "metadata": {
    "ExecuteTime": {
     "end_time": "2022-02-03T18:12:14.466933Z",
     "start_time": "2022-02-03T18:12:14.461072Z"
    }
   },
   "outputs": [],
   "source": [
    "print(pos[:140])"
   ]
  },
  {
   "cell_type": "code",
   "execution_count": null,
   "id": "46611dc7",
   "metadata": {
    "ExecuteTime": {
     "end_time": "2022-02-03T10:27:50.272621Z",
     "start_time": "2022-02-03T10:27:50.268984Z"
    }
   },
   "outputs": [],
   "source": [
    "#pos.shape"
   ]
  },
  {
   "cell_type": "code",
   "execution_count": null,
   "id": "c0f53d4f",
   "metadata": {
    "ExecuteTime": {
     "end_time": "2022-02-03T10:27:50.464687Z",
     "start_time": "2022-02-03T10:27:50.461942Z"
    }
   },
   "outputs": [],
   "source": [
    "#pos.shape[0] - nr_rows "
   ]
  },
  {
   "cell_type": "code",
   "execution_count": null,
   "id": "4620c0f8",
   "metadata": {
    "ExecuteTime": {
     "end_time": "2022-02-03T18:12:14.476603Z",
     "start_time": "2022-02-03T18:12:14.470611Z"
    }
   },
   "outputs": [],
   "source": [
    "def load_data():\n",
    "    \"\"\"\n",
    "    This function loads the data to three np.array (anchor, positive, negative)\n",
    "    :param img_num: number of images to load (by default 2271)\n",
    "    :return: a tuple with the np arrays X and y\n",
    "    \"\"\"\n",
    "    anchor = df_with_path('/Users/julietastaryfurmanshalom/OneDrive/ITC/Face_Rec/data/anchor/',56434,filtered_people )\n",
    "    print(anchor.shape)\n",
    "    positive = df_with_path('/Users/julietastaryfurmanshalom/OneDrive/ITC/Face_Rec/data/positive/',56434,filtered_people )\n",
    "    print(positive.shape)\n",
    "    negative = df_with_path('/Users/julietastaryfurmanshalom/OneDrive/ITC/Face_Rec/data/negative_cleaned/',56434,filtered_people )\n",
    "    print(negative.shape)\n",
    "    return (anchor, positive, negative)"
   ]
  },
  {
   "cell_type": "code",
   "execution_count": null,
   "id": "65455b34",
   "metadata": {
    "ExecuteTime": {
     "end_time": "2022-02-03T18:12:23.582860Z",
     "start_time": "2022-02-03T18:12:14.481286Z"
    }
   },
   "outputs": [],
   "source": [
    "anchor, positive, negative = load_data()"
   ]
  },
  {
   "cell_type": "code",
   "execution_count": null,
   "id": "817d4d77",
   "metadata": {
    "ExecuteTime": {
     "end_time": "2022-02-03T16:28:40.472797Z",
     "start_time": "2022-02-03T16:28:40.467944Z"
    }
   },
   "outputs": [],
   "source": [
    "anchor"
   ]
  },
  {
   "cell_type": "code",
   "execution_count": null,
   "id": "f3e5ab21",
   "metadata": {
    "ExecuteTime": {
     "end_time": "2022-02-03T18:12:23.591442Z",
     "start_time": "2022-02-03T18:12:23.585666Z"
    }
   },
   "outputs": [],
   "source": [
    "def create_df(anchor,positive,negative,nr_rows):\n",
    "    df_1 = pd.DataFrame()\n",
    "    df_1['img_1'] = anchor\n",
    "    df_1['img_2'] = positive\n",
    "    df_1['label'] = np.ones(nr_rows)\n",
    "    \n",
    "    \n",
    "    df_2 = pd.DataFrame()\n",
    "    df_2['img_1'] = anchor\n",
    "    df_2['img_2'] = negative\n",
    "    df_2['label'] = np.zeros(nr_rows)\n",
    "    \n",
    "    df = pd.concat([df_1,df_2])\n",
    "    return df.reset_index().drop(columns=['index'])"
   ]
  },
  {
   "cell_type": "code",
   "execution_count": null,
   "id": "67879444",
   "metadata": {
    "ExecuteTime": {
     "end_time": "2022-02-03T18:12:23.734630Z",
     "start_time": "2022-02-03T18:12:23.596622Z"
    }
   },
   "outputs": [],
   "source": [
    "df = create_df(anchor,positive,negative,nr_rows)"
   ]
  },
  {
   "cell_type": "code",
   "execution_count": null,
   "id": "98fab6b2",
   "metadata": {
    "ExecuteTime": {
     "end_time": "2022-02-03T16:39:54.474558Z",
     "start_time": "2022-02-03T16:39:54.461053Z"
    }
   },
   "outputs": [],
   "source": [
    "df.head(20)"
   ]
  },
  {
   "cell_type": "code",
   "execution_count": null,
   "id": "585cf2d3",
   "metadata": {
    "ExecuteTime": {
     "end_time": "2022-02-03T18:12:54.739818Z",
     "start_time": "2022-02-03T18:12:47.118527Z"
    }
   },
   "outputs": [],
   "source": [
    "def delete_bad_labels(df):\n",
    "    aux = 0\n",
    "    for index,row in df.iterrows():\n",
    "        if row.label == 0:\n",
    "            if row.img_1[:-9] == row.img_2[:-9]:\n",
    "                df.drop(index,inplace=True)\n",
    "                aux += 1\n",
    "    return df"
   ]
  },
  {
   "cell_type": "code",
   "execution_count": null,
   "id": "eb4da6f2",
   "metadata": {
    "ExecuteTime": {
     "end_time": "2022-02-03T18:12:54.747919Z",
     "start_time": "2022-02-03T18:12:54.742416Z"
    }
   },
   "outputs": [],
   "source": [
    "aux"
   ]
  },
  {
   "cell_type": "code",
   "execution_count": null,
   "id": "bd365756",
   "metadata": {
    "ExecuteTime": {
     "end_time": "2022-02-03T18:12:55.114357Z",
     "start_time": "2022-02-03T18:12:54.750544Z"
    }
   },
   "outputs": [],
   "source": [
    "df.to_csv('dataframe.csv')"
   ]
  },
  {
   "cell_type": "code",
   "execution_count": null,
   "id": "bbe9e794",
   "metadata": {
    "ExecuteTime": {
     "end_time": "2022-02-03T18:15:10.979931Z",
     "start_time": "2022-02-03T18:15:10.962656Z"
    }
   },
   "outputs": [],
   "source": [
    "df.sample(20)"
   ]
  },
  {
   "cell_type": "code",
   "execution_count": null,
   "id": "5fe9cce1",
   "metadata": {
    "ExecuteTime": {
     "end_time": "2022-02-03T15:11:09.309806Z",
     "start_time": "2022-02-03T15:11:09.304817Z"
    }
   },
   "outputs": [],
   "source": [
    "def load_data():\n",
    "    \"\"\"\n",
    "    This function loads the data to three np.array (anchor, positive, negative)\n",
    "    :param img_num: number of images to load (by default 2271)\n",
    "    :return: a tuple with the np arrays X and y\n",
    "    \"\"\"\n",
    "    anchor = load_from_path('/Users/julietastaryfurmanshalom/OneDrive/ITC/Face_Rec/data/anchor/',56434,filtered_people )\n",
    "    print(anchor.shape)\n",
    "    positive = load_from_path('/Users/julietastaryfurmanshalom/OneDrive/ITC/Face_Rec/data/positive/',56434,filtered_people )\n",
    "    print(positive.shape)\n",
    "    negative = load_from_path('/Users/julietastaryfurmanshalom/OneDrive/ITC/Face_Rec/data/negative_cleaned/',56434,filtered_people )\n",
    "    print(negative.shape)\n",
    "    return (anchor, positive, negative"
   ]
  },
  {
   "cell_type": "code",
   "execution_count": null,
   "id": "f4152dcf",
   "metadata": {},
   "outputs": [],
   "source": []
  },
  {
   "cell_type": "code",
   "execution_count": null,
   "id": "de4478de",
   "metadata": {
    "ExecuteTime": {
     "end_time": "2022-02-03T15:16:52.858939Z",
     "start_time": "2022-02-03T15:11:10.287507Z"
    },
    "scrolled": true
   },
   "outputs": [],
   "source": [
    "anchor,positive,negative = load_data()"
   ]
  },
  {
   "cell_type": "code",
   "execution_count": null,
   "id": "0a2c671d",
   "metadata": {
    "ExecuteTime": {
     "end_time": "2022-02-03T15:21:15.883755Z",
     "start_time": "2022-02-03T15:21:15.877286Z"
    }
   },
   "outputs": [],
   "source": [
    "len(anchor[0:128])"
   ]
  },
  {
   "cell_type": "code",
   "execution_count": null,
   "id": "53123ef1",
   "metadata": {
    "ExecuteTime": {
     "end_time": "2022-02-03T15:27:56.365799Z",
     "start_time": "2022-02-03T15:27:56.360699Z"
    }
   },
   "outputs": [],
   "source": [
    "def create_batches(anchor, positive, negative):\n",
    "    nr_batch = 0\n",
    "    for i in range(0,len(anchor), 128):\n",
    "        top = min(i + 128, len(anchor))\n",
    "        X = np.concatenate([np.array([anchor[i:top], positive[i:top]]), np.array([anchor[i:top], negative[i:top]])], axis=1)\n",
    "        y = np.concatenate([np.ones(128), np.zeros(128)], axis=0) \n",
    "        nr_batch += 1\n",
    "        np.save(\"dataset/X_batch_\" + str(nr_batch) , X)\n",
    "        np.save(\"dataset/y_batch_\" + str(nr_batch) , y)"
   ]
  },
  {
   "cell_type": "code",
   "execution_count": null,
   "id": "f92c7e3c",
   "metadata": {
    "ExecuteTime": {
     "end_time": "2022-02-03T15:36:32.379293Z",
     "start_time": "2022-02-03T15:28:04.175833Z"
    }
   },
   "outputs": [],
   "source": [
    "create_batches(anchor, positive, negative)"
   ]
  },
  {
   "cell_type": "code",
   "execution_count": null,
   "id": "cb1b33c3",
   "metadata": {},
   "outputs": [],
   "source": []
  }
 ],
 "metadata": {
  "kernelspec": {
   "display_name": "Python 3 (ipykernel)",
   "language": "python",
   "name": "python3"
  },
  "language_info": {
   "codemirror_mode": {
    "name": "ipython",
    "version": 3
   },
   "file_extension": ".py",
   "mimetype": "text/x-python",
   "name": "python",
   "nbconvert_exporter": "python",
   "pygments_lexer": "ipython3",
   "version": "3.8.12"
  },
  "toc": {
   "base_numbering": 1,
   "nav_menu": {},
   "number_sections": true,
   "sideBar": true,
   "skip_h1_title": false,
   "title_cell": "Table of Contents",
   "title_sidebar": "Contents",
   "toc_cell": false,
   "toc_position": {},
   "toc_section_display": true,
   "toc_window_display": false
  }
 },
 "nbformat": 4,
 "nbformat_minor": 5
}
