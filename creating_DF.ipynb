{
 "cells": [
  {
   "cell_type": "markdown",
   "id": "358e1a7d",
   "metadata": {},
   "source": [
    "# CREATING DATAFRAME"
   ]
  },
  {
   "cell_type": "code",
   "execution_count": 26,
   "id": "e075947a",
   "metadata": {
    "ExecuteTime": {
     "end_time": "2022-02-03T16:28:58.832512Z",
     "start_time": "2022-02-03T16:28:58.156107Z"
    }
   },
   "outputs": [],
   "source": [
    "import numpy as np\n",
    "import os\n",
    "import conf as config\n",
    "import creating_DF as cdf\n",
    "import cv2\n",
    "import random\n",
    "import glob\n",
    "import pandas as pd\n",
    "from collections import Counter\n",
    "from random import sample,seed\n",
    "seed(10)"
   ]
  },
  {
   "cell_type": "markdown",
   "id": "1f716fa1",
   "metadata": {},
   "source": [
    "We need to make sure we have pictures of ourselves and from random people in all of our folders in a balanced way (positive, negative and anchor)."
   ]
  },
  {
   "cell_type": "markdown",
   "id": "56c89604",
   "metadata": {},
   "source": [
    "⚠️⚠️⚠️ `This code was ran once with some variations before the folders were correctly filled with the desired images, you only need to run the last cells`"
   ]
  },
  {
   "cell_type": "markdown",
   "id": "5ee1b80b",
   "metadata": {},
   "source": [
    "**We create lists with all the people from LFW dataset**"
   ]
  },
  {
   "cell_type": "code",
   "execution_count": 3,
   "id": "67ffd070",
   "metadata": {
    "ExecuteTime": {
     "end_time": "2022-02-03T16:25:37.102883Z",
     "start_time": "2022-02-03T16:25:36.996548Z"
    }
   },
   "outputs": [],
   "source": [
    "dir_list = os.listdir(config.NEG_PATH)\n",
    "neg_list = sorted(dir_list)"
   ]
  },
  {
   "cell_type": "markdown",
   "id": "4aa5b6f8",
   "metadata": {
    "ExecuteTime": {
     "end_time": "2022-01-30T19:31:50.021538Z",
     "start_time": "2022-01-30T19:31:50.017899Z"
    }
   },
   "source": [
    "**We get the names and we look for those people that appears more than 10 times**"
   ]
  },
  {
   "cell_type": "code",
   "execution_count": 4,
   "id": "7edddf28",
   "metadata": {
    "ExecuteTime": {
     "end_time": "2022-02-03T16:25:37.419670Z",
     "start_time": "2022-02-03T16:25:37.409902Z"
    }
   },
   "outputs": [],
   "source": [
    "name = [person[:-9] for person in neg_list]\n",
    "freq_person = Counter(name)\n",
    "pairs = freq_person.items()\n",
    "filtered_people = {key: value for key, value in pairs if value > 9}"
   ]
  },
  {
   "cell_type": "code",
   "execution_count": 5,
   "id": "d622a177",
   "metadata": {
    "ExecuteTime": {
     "end_time": "2022-02-03T16:25:37.736821Z",
     "start_time": "2022-02-03T16:25:37.723017Z"
    }
   },
   "outputs": [
    {
     "data": {
      "text/plain": [
       "{'Abdullah_Gul': 19,\n",
       " 'Adrien_Brody': 12,\n",
       " 'Alejandro_Toledo': 39,\n",
       " 'Alvaro_Uribe': 35,\n",
       " 'Amelie_Mauresmo': 21,\n",
       " 'Andre_Agassi': 36,\n",
       " 'Andy_Roddick': 15,\n",
       " 'Angelina_Jolie': 20,\n",
       " 'Ann_Veneman': 11,\n",
       " 'Anna_Kournikova': 12,\n",
       " 'Ari_Fleischer': 13,\n",
       " 'Ariel_Sharon': 77,\n",
       " 'Arnold_Schwarzenegger': 42,\n",
       " 'Atal_Bihari_Vajpayee': 24,\n",
       " 'Bill_Clinton': 29,\n",
       " 'Bill_Gates': 17,\n",
       " 'Bill_McBride': 10,\n",
       " 'Bill_Simon': 15,\n",
       " 'Britney_Spears': 14,\n",
       " 'Carlos_Menem': 21,\n",
       " 'Carlos_Moya': 19,\n",
       " 'Catherine_Zeta-Jones': 11,\n",
       " 'Charles_Moose': 13,\n",
       " 'Colin_Powell': 236,\n",
       " 'Condoleezza_Rice': 11,\n",
       " 'David_Beckham': 31,\n",
       " 'David_Nalbandian': 14,\n",
       " 'Dick_Cheney': 14,\n",
       " 'Dominique_de_Villepin': 15,\n",
       " 'Donald_Rumsfeld': 121,\n",
       " 'Edmund_Stoiber': 13,\n",
       " 'Eduardo_Duhalde': 14,\n",
       " 'Fidel_Castro': 18,\n",
       " 'George_HW_Bush': 13,\n",
       " 'George_Robertson': 22,\n",
       " 'George_W_Bush': 80,\n",
       " 'Gerhard_Schroeder': 109,\n",
       " 'Gloria_Macapagal_Arroyo': 44,\n",
       " 'Gonzalo_Sanchez_de_Lozada': 12,\n",
       " 'Gordon_Brown': 13,\n",
       " 'Gray_Davis': 26,\n",
       " 'Guillermo_Coria': 30,\n",
       " 'Halle_Berry': 16,\n",
       " 'Hamid_Karzai': 22,\n",
       " 'Hans_Blix': 39,\n",
       " 'Harrison_Ford': 12,\n",
       " 'Hillary_Clinton': 14,\n",
       " 'Howard_Dean': 12,\n",
       " 'Hu_Jintao': 15,\n",
       " 'Hugo_Chavez': 71,\n",
       " 'Ian_Thorpe': 10,\n",
       " 'Igor_Ivanov': 20,\n",
       " 'Jack_Straw': 28,\n",
       " 'Jackie_Chan': 13,\n",
       " 'Jacques_Chirac': 52,\n",
       " 'Jacques_Rogge': 10,\n",
       " 'James_Blake': 14,\n",
       " 'James_Kelly': 11,\n",
       " 'Jason_Kidd': 10,\n",
       " 'Javier_Solana': 10,\n",
       " 'Jean-David_Levitte': 10,\n",
       " 'Jean_Charest': 17,\n",
       " 'Jean_Chretien': 55,\n",
       " 'Jeb_Bush': 12,\n",
       " 'Jennifer_Aniston': 21,\n",
       " 'Jennifer_Capriati': 42,\n",
       " 'Jennifer_Garner': 12,\n",
       " 'Jennifer_Lopez': 21,\n",
       " 'Jeremy_Greenstock': 24,\n",
       " 'Jiang_Zemin': 20,\n",
       " 'Jiri_Novak': 11,\n",
       " 'Joe_Lieberman': 13,\n",
       " 'John_Allen_Muhammad': 11,\n",
       " 'John_Ashcroft': 53,\n",
       " 'John_Bolton': 17,\n",
       " 'John_Howard': 19,\n",
       " 'John_Kerry': 17,\n",
       " 'John_Negroponte': 31,\n",
       " 'John_Paul_II': 11,\n",
       " 'John_Snow': 17,\n",
       " 'Joschka_Fischer': 19,\n",
       " 'Jose_Maria_Aznar': 23,\n",
       " 'Juan_Carlos_Ferrero': 28,\n",
       " 'Julianne_Moore': 19,\n",
       " 'Julie_Gerberding': 15,\n",
       " 'Julieta_Staryfurman': 50,\n",
       " 'Junichiro_Koizumi': 60,\n",
       " 'Keanu_Reeves': 12,\n",
       " 'Kim_Clijsters': 14,\n",
       " 'Kim_Ryong-sung': 11,\n",
       " 'Kofi_Annan': 32,\n",
       " 'Lance_Armstrong': 18,\n",
       " 'Laura_Bush': 41,\n",
       " 'Lindsay_Davenport': 22,\n",
       " 'Lleyton_Hewitt': 41,\n",
       " 'Lucio_Gutierrez': 13,\n",
       " 'Luiz_Inacio_Lula_da_Silva': 48,\n",
       " 'Mahathir_Mohamad': 14,\n",
       " 'Mahmoud_Abbas': 29,\n",
       " 'Mark_Philippoussis': 11,\n",
       " 'Megawati_Sukarnoputri': 33,\n",
       " 'Meryl_Streep': 15,\n",
       " 'Michael_Bloomberg': 20,\n",
       " 'Michael_Jackson': 12,\n",
       " 'Michael_Schumacher': 18,\n",
       " 'Mike_Weir': 11,\n",
       " 'Mohammad_Khatami': 10,\n",
       " 'Mohammed_Al-Douri': 15,\n",
       " 'Muhammad_Ali': 10,\n",
       " 'Nancy_Pelosi': 15,\n",
       " 'Naomi_Watts': 22,\n",
       " 'Nestor_Kirchner': 37,\n",
       " 'Nicanor_Duarte_Frutos': 11,\n",
       " 'Nicole_Kidman': 19,\n",
       " 'Noam_Pinhas_Cohen': 50,\n",
       " 'Norah_Jones': 15,\n",
       " 'Paradorn_Srichaphan': 10,\n",
       " 'Paul_Bremer': 20,\n",
       " 'Paul_Burrell': 11,\n",
       " 'Paul_Wolfowitz': 10,\n",
       " 'Pervez_Musharraf': 18,\n",
       " 'Pete_Sampras': 22,\n",
       " 'Pierce_Brosnan': 15,\n",
       " 'Queen_Elizabeth_II': 13,\n",
       " 'Recep_Tayyip_Erdogan': 30,\n",
       " 'Renee_Zellweger': 17,\n",
       " 'Ricardo_Lagos': 27,\n",
       " 'Richard_Gephardt': 11,\n",
       " 'Richard_Gere': 10,\n",
       " 'Richard_Myers': 18,\n",
       " 'Roger_Federer': 14,\n",
       " 'Roh_Moo-hyun': 32,\n",
       " 'Rubens_Barrichello': 12,\n",
       " 'Rudolph_Giuliani': 26,\n",
       " 'Saddam_Hussein': 23,\n",
       " 'Sahar_Garber': 50,\n",
       " 'Salma_Hayek': 13,\n",
       " 'Serena_Williams': 52,\n",
       " 'Sergey_Lavrov': 11,\n",
       " 'Sergio_Vieira_De_Mello': 11,\n",
       " 'Silvio_Berlusconi': 33,\n",
       " 'Spencer_Abraham': 17,\n",
       " 'Taha_Yassin_Ramadan': 15,\n",
       " 'Tang_Jiaxuan': 11,\n",
       " 'Tiger_Woods': 23,\n",
       " 'Tim_Henman': 19,\n",
       " 'Tom_Cruise': 10,\n",
       " 'Tom_Daschle': 25,\n",
       " 'Tom_Hanks': 10,\n",
       " 'Tom_Ridge': 33,\n",
       " 'Tommy_Franks': 16,\n",
       " 'Tommy_Thompson': 10,\n",
       " 'Tony_Blair': 144,\n",
       " 'Trent_Lott': 16,\n",
       " 'Venus_Williams': 17,\n",
       " 'Vicente_Fox': 32,\n",
       " 'Vladimir_Putin': 49,\n",
       " 'Walter_Mondale': 10,\n",
       " 'Wen_Jiabao': 13,\n",
       " 'Winona_Ryder': 24,\n",
       " 'Yoriko_Kawaguchi': 14}"
      ]
     },
     "execution_count": 5,
     "metadata": {},
     "output_type": "execute_result"
    }
   ],
   "source": [
    "filtered_people "
   ]
  },
  {
   "cell_type": "code",
   "execution_count": 6,
   "id": "9597d98b",
   "metadata": {
    "ExecuteTime": {
     "end_time": "2022-02-03T16:25:38.043270Z",
     "start_time": "2022-02-03T16:25:38.040213Z"
    }
   },
   "outputs": [],
   "source": [
    "for key in filtered_people.keys():\n",
    "    if key != 'Julieta_Staryfurman' and key != 'Sahar_Garber' and key != 'Noam_Pinhas_Cohen':\n",
    "        filtered_people[key] = filtered_people[key] // 2"
   ]
  },
  {
   "cell_type": "code",
   "execution_count": 7,
   "id": "34a01d47",
   "metadata": {
    "ExecuteTime": {
     "end_time": "2022-02-03T16:25:38.533631Z",
     "start_time": "2022-02-03T16:25:38.530501Z"
    }
   },
   "outputs": [],
   "source": [
    "#nr_rows = 3 * (25**2)\n",
    "nr_rows = 0\n",
    "for value in filtered_people.values():\n",
    "    nr_rows += (value**2)\n"
   ]
  },
  {
   "cell_type": "code",
   "execution_count": 8,
   "id": "400cc492",
   "metadata": {
    "ExecuteTime": {
     "end_time": "2022-02-03T16:25:38.734177Z",
     "start_time": "2022-02-03T16:25:38.728651Z"
    }
   },
   "outputs": [
    {
     "data": {
      "text/plain": [
       "161"
      ]
     },
     "execution_count": 8,
     "metadata": {},
     "output_type": "execute_result"
    }
   ],
   "source": [
    "len(filtered_people)"
   ]
  },
  {
   "cell_type": "code",
   "execution_count": 9,
   "id": "5f5d69de",
   "metadata": {
    "ExecuteTime": {
     "end_time": "2022-02-03T16:25:39.076825Z",
     "start_time": "2022-02-03T16:25:39.073496Z"
    }
   },
   "outputs": [
    {
     "data": {
      "text/plain": [
       "56434"
      ]
     },
     "execution_count": 9,
     "metadata": {},
     "output_type": "execute_result"
    }
   ],
   "source": [
    "nr_rows"
   ]
  },
  {
   "cell_type": "code",
   "execution_count": 10,
   "id": "79096c2f",
   "metadata": {
    "ExecuteTime": {
     "end_time": "2022-02-03T16:25:40.341707Z",
     "start_time": "2022-02-03T16:25:40.331799Z"
    }
   },
   "outputs": [
    {
     "data": {
      "text/plain": [
       "{'Abdullah_Gul': 9,\n",
       " 'Adrien_Brody': 6,\n",
       " 'Alejandro_Toledo': 19,\n",
       " 'Alvaro_Uribe': 17,\n",
       " 'Amelie_Mauresmo': 10,\n",
       " 'Andre_Agassi': 18,\n",
       " 'Andy_Roddick': 7,\n",
       " 'Angelina_Jolie': 10,\n",
       " 'Ann_Veneman': 5,\n",
       " 'Anna_Kournikova': 6,\n",
       " 'Ari_Fleischer': 6,\n",
       " 'Ariel_Sharon': 38,\n",
       " 'Arnold_Schwarzenegger': 21,\n",
       " 'Atal_Bihari_Vajpayee': 12,\n",
       " 'Bill_Clinton': 14,\n",
       " 'Bill_Gates': 8,\n",
       " 'Bill_McBride': 5,\n",
       " 'Bill_Simon': 7,\n",
       " 'Britney_Spears': 7,\n",
       " 'Carlos_Menem': 10,\n",
       " 'Carlos_Moya': 9,\n",
       " 'Catherine_Zeta-Jones': 5,\n",
       " 'Charles_Moose': 6,\n",
       " 'Colin_Powell': 118,\n",
       " 'Condoleezza_Rice': 5,\n",
       " 'David_Beckham': 15,\n",
       " 'David_Nalbandian': 7,\n",
       " 'Dick_Cheney': 7,\n",
       " 'Dominique_de_Villepin': 7,\n",
       " 'Donald_Rumsfeld': 60,\n",
       " 'Edmund_Stoiber': 6,\n",
       " 'Eduardo_Duhalde': 7,\n",
       " 'Fidel_Castro': 9,\n",
       " 'George_HW_Bush': 6,\n",
       " 'George_Robertson': 11,\n",
       " 'George_W_Bush': 40,\n",
       " 'Gerhard_Schroeder': 54,\n",
       " 'Gloria_Macapagal_Arroyo': 22,\n",
       " 'Gonzalo_Sanchez_de_Lozada': 6,\n",
       " 'Gordon_Brown': 6,\n",
       " 'Gray_Davis': 13,\n",
       " 'Guillermo_Coria': 15,\n",
       " 'Halle_Berry': 8,\n",
       " 'Hamid_Karzai': 11,\n",
       " 'Hans_Blix': 19,\n",
       " 'Harrison_Ford': 6,\n",
       " 'Hillary_Clinton': 7,\n",
       " 'Howard_Dean': 6,\n",
       " 'Hu_Jintao': 7,\n",
       " 'Hugo_Chavez': 35,\n",
       " 'Ian_Thorpe': 5,\n",
       " 'Igor_Ivanov': 10,\n",
       " 'Jack_Straw': 14,\n",
       " 'Jackie_Chan': 6,\n",
       " 'Jacques_Chirac': 26,\n",
       " 'Jacques_Rogge': 5,\n",
       " 'James_Blake': 7,\n",
       " 'James_Kelly': 5,\n",
       " 'Jason_Kidd': 5,\n",
       " 'Javier_Solana': 5,\n",
       " 'Jean-David_Levitte': 5,\n",
       " 'Jean_Charest': 8,\n",
       " 'Jean_Chretien': 27,\n",
       " 'Jeb_Bush': 6,\n",
       " 'Jennifer_Aniston': 10,\n",
       " 'Jennifer_Capriati': 21,\n",
       " 'Jennifer_Garner': 6,\n",
       " 'Jennifer_Lopez': 10,\n",
       " 'Jeremy_Greenstock': 12,\n",
       " 'Jiang_Zemin': 10,\n",
       " 'Jiri_Novak': 5,\n",
       " 'Joe_Lieberman': 6,\n",
       " 'John_Allen_Muhammad': 5,\n",
       " 'John_Ashcroft': 26,\n",
       " 'John_Bolton': 8,\n",
       " 'John_Howard': 9,\n",
       " 'John_Kerry': 8,\n",
       " 'John_Negroponte': 15,\n",
       " 'John_Paul_II': 5,\n",
       " 'John_Snow': 8,\n",
       " 'Joschka_Fischer': 9,\n",
       " 'Jose_Maria_Aznar': 11,\n",
       " 'Juan_Carlos_Ferrero': 14,\n",
       " 'Julianne_Moore': 9,\n",
       " 'Julie_Gerberding': 7,\n",
       " 'Julieta_Staryfurman': 50,\n",
       " 'Junichiro_Koizumi': 30,\n",
       " 'Keanu_Reeves': 6,\n",
       " 'Kim_Clijsters': 7,\n",
       " 'Kim_Ryong-sung': 5,\n",
       " 'Kofi_Annan': 16,\n",
       " 'Lance_Armstrong': 9,\n",
       " 'Laura_Bush': 20,\n",
       " 'Lindsay_Davenport': 11,\n",
       " 'Lleyton_Hewitt': 20,\n",
       " 'Lucio_Gutierrez': 6,\n",
       " 'Luiz_Inacio_Lula_da_Silva': 24,\n",
       " 'Mahathir_Mohamad': 7,\n",
       " 'Mahmoud_Abbas': 14,\n",
       " 'Mark_Philippoussis': 5,\n",
       " 'Megawati_Sukarnoputri': 16,\n",
       " 'Meryl_Streep': 7,\n",
       " 'Michael_Bloomberg': 10,\n",
       " 'Michael_Jackson': 6,\n",
       " 'Michael_Schumacher': 9,\n",
       " 'Mike_Weir': 5,\n",
       " 'Mohammad_Khatami': 5,\n",
       " 'Mohammed_Al-Douri': 7,\n",
       " 'Muhammad_Ali': 5,\n",
       " 'Nancy_Pelosi': 7,\n",
       " 'Naomi_Watts': 11,\n",
       " 'Nestor_Kirchner': 18,\n",
       " 'Nicanor_Duarte_Frutos': 5,\n",
       " 'Nicole_Kidman': 9,\n",
       " 'Noam_Pinhas_Cohen': 50,\n",
       " 'Norah_Jones': 7,\n",
       " 'Paradorn_Srichaphan': 5,\n",
       " 'Paul_Bremer': 10,\n",
       " 'Paul_Burrell': 5,\n",
       " 'Paul_Wolfowitz': 5,\n",
       " 'Pervez_Musharraf': 9,\n",
       " 'Pete_Sampras': 11,\n",
       " 'Pierce_Brosnan': 7,\n",
       " 'Queen_Elizabeth_II': 6,\n",
       " 'Recep_Tayyip_Erdogan': 15,\n",
       " 'Renee_Zellweger': 8,\n",
       " 'Ricardo_Lagos': 13,\n",
       " 'Richard_Gephardt': 5,\n",
       " 'Richard_Gere': 5,\n",
       " 'Richard_Myers': 9,\n",
       " 'Roger_Federer': 7,\n",
       " 'Roh_Moo-hyun': 16,\n",
       " 'Rubens_Barrichello': 6,\n",
       " 'Rudolph_Giuliani': 13,\n",
       " 'Saddam_Hussein': 11,\n",
       " 'Sahar_Garber': 50,\n",
       " 'Salma_Hayek': 6,\n",
       " 'Serena_Williams': 26,\n",
       " 'Sergey_Lavrov': 5,\n",
       " 'Sergio_Vieira_De_Mello': 5,\n",
       " 'Silvio_Berlusconi': 16,\n",
       " 'Spencer_Abraham': 8,\n",
       " 'Taha_Yassin_Ramadan': 7,\n",
       " 'Tang_Jiaxuan': 5,\n",
       " 'Tiger_Woods': 11,\n",
       " 'Tim_Henman': 9,\n",
       " 'Tom_Cruise': 5,\n",
       " 'Tom_Daschle': 12,\n",
       " 'Tom_Hanks': 5,\n",
       " 'Tom_Ridge': 16,\n",
       " 'Tommy_Franks': 8,\n",
       " 'Tommy_Thompson': 5,\n",
       " 'Tony_Blair': 72,\n",
       " 'Trent_Lott': 8,\n",
       " 'Venus_Williams': 8,\n",
       " 'Vicente_Fox': 16,\n",
       " 'Vladimir_Putin': 24,\n",
       " 'Walter_Mondale': 5,\n",
       " 'Wen_Jiabao': 6,\n",
       " 'Winona_Ryder': 12,\n",
       " 'Yoriko_Kawaguchi': 7}"
      ]
     },
     "execution_count": 10,
     "metadata": {},
     "output_type": "execute_result"
    }
   ],
   "source": [
    "filtered_people"
   ]
  },
  {
   "cell_type": "markdown",
   "id": "f0f9cc9e",
   "metadata": {},
   "source": [
    "**We save half of the pictures of those people that appears more than 10 times in the anchor folder and the other half in the positive file**"
   ]
  },
  {
   "cell_type": "code",
   "execution_count": null,
   "id": "6fd287b1",
   "metadata": {
    "ExecuteTime": {
     "end_time": "2022-02-02T16:20:53.734729Z",
     "start_time": "2022-02-02T16:20:53.725234Z"
    }
   },
   "outputs": [],
   "source": [
    "new_path_anchor = []\n",
    "new_path_positive = []\n",
    "for k,v in filtered_people.items():\n",
    "    for i in range(1,v//2+1):\n",
    "        new_path_anchor.append(k + '_' + '0'*(4-len(str(i))) + str(i) +'.jpg')\n",
    "    for i in range(v//2+1,((v//2)*2)+1):\n",
    "        new_path_positive.append(k + '_' + '0'*(4-len(str(i))) + str(i) +'.jpg')"
   ]
  },
  {
   "cell_type": "code",
   "execution_count": null,
   "id": "5c8dc11a",
   "metadata": {
    "ExecuteTime": {
     "end_time": "2022-02-02T16:20:53.743235Z",
     "start_time": "2022-02-02T16:20:53.737456Z"
    }
   },
   "outputs": [],
   "source": [
    "len(new_path_anchor) == len(new_path_positive) "
   ]
  },
  {
   "cell_type": "markdown",
   "id": "53fcfdf1",
   "metadata": {},
   "source": [
    "**We changed the name of the pictures of ourselves so that it follows the same logic as in the lfw dataset.**"
   ]
  },
  {
   "cell_type": "code",
   "execution_count": null,
   "id": "34f6a2e8",
   "metadata": {
    "ExecuteTime": {
     "end_time": "2022-02-02T16:20:53.759917Z",
     "start_time": "2022-02-02T16:20:53.747480Z"
    }
   },
   "outputs": [],
   "source": [
    "path = '/Users/julietastaryfurmanshalom/OneDrive/ITC/Face_Rec/sahar/anchor'\n",
    "name = 'Sahar_Garber'"
   ]
  },
  {
   "cell_type": "code",
   "execution_count": null,
   "id": "24eddc19",
   "metadata": {
    "ExecuteTime": {
     "end_time": "2022-02-02T16:20:53.778671Z",
     "start_time": "2022-02-02T16:20:53.763636Z"
    }
   },
   "outputs": [],
   "source": [
    "cdf.changing_names(path,name)"
   ]
  },
  {
   "cell_type": "markdown",
   "id": "7903f1e3",
   "metadata": {},
   "source": [
    "**We make sure we have all the images in all of the folders**"
   ]
  },
  {
   "cell_type": "code",
   "execution_count": null,
   "id": "e26330b4",
   "metadata": {
    "ExecuteTime": {
     "end_time": "2022-02-02T16:20:53.783936Z",
     "start_time": "2022-02-02T16:20:53.781018Z"
    }
   },
   "outputs": [],
   "source": [
    "src_path = '/Users/julietastaryfurmanshalom/OneDrive/ITC/Face_Rec/data/negative/'\n",
    "dest_path = '/Users/julietastaryfurmanshalom/OneDrive/ITC/Face_Rec/data/anchor/'"
   ]
  },
  {
   "cell_type": "code",
   "execution_count": null,
   "id": "9bc4fe83",
   "metadata": {
    "ExecuteTime": {
     "end_time": "2022-02-02T16:20:54.601769Z",
     "start_time": "2022-02-02T16:20:53.786660Z"
    }
   },
   "outputs": [],
   "source": [
    "cdf.add_to_folder(new_path_anchor, src_path, dest_path)"
   ]
  },
  {
   "cell_type": "code",
   "execution_count": null,
   "id": "01f052ef",
   "metadata": {
    "ExecuteTime": {
     "end_time": "2022-02-02T16:20:54.617693Z",
     "start_time": "2022-02-02T16:20:54.604715Z"
    }
   },
   "outputs": [],
   "source": [
    "pos_images = os.listdir(config.POS_PATH)\n",
    "anchor_images = os.listdir(config.ANC_PATH)\n",
    "all_images = pos_images + anchor_images"
   ]
  },
  {
   "cell_type": "code",
   "execution_count": null,
   "id": "552df494",
   "metadata": {
    "ExecuteTime": {
     "end_time": "2022-02-02T16:20:54.623420Z",
     "start_time": "2022-02-02T16:20:54.619290Z"
    }
   },
   "outputs": [],
   "source": [
    "src_path = '/Users/julietastaryfurmanshalom/OneDrive/ITC/Face_Rec/data/positive/'\n",
    "dest_path = '/Users/julietastaryfurmanshalom/OneDrive/ITC/Face_Rec/data/negative/'"
   ]
  },
  {
   "cell_type": "code",
   "execution_count": null,
   "id": "d7ba9e3f",
   "metadata": {
    "ExecuteTime": {
     "end_time": "2022-02-02T16:20:54.632843Z",
     "start_time": "2022-02-02T16:20:54.626294Z"
    }
   },
   "outputs": [],
   "source": [
    "sample_all_images = sample(list(set(all_images)),len(pos_images))"
   ]
  },
  {
   "cell_type": "code",
   "execution_count": null,
   "id": "77e4ba2a",
   "metadata": {
    "ExecuteTime": {
     "end_time": "2022-02-02T16:20:57.507075Z",
     "start_time": "2022-02-02T16:20:54.640160Z"
    }
   },
   "outputs": [],
   "source": [
    "cdf.add_to_folder(pos_images, src_path, dest_path)"
   ]
  },
  {
   "cell_type": "code",
   "execution_count": null,
   "id": "7955ef0f",
   "metadata": {
    "ExecuteTime": {
     "end_time": "2022-02-02T16:20:57.514123Z",
     "start_time": "2022-02-02T16:20:57.508839Z"
    }
   },
   "outputs": [],
   "source": [
    "src_path = '/Users/julietastaryfurmanshalom/OneDrive/ITC/Face_Rec/data/negative/'\n",
    "dest_path = '/Users/julietastaryfurmanshalom/OneDrive/ITC/Face_Rec/data/negative_cleaned/'"
   ]
  },
  {
   "cell_type": "code",
   "execution_count": null,
   "id": "cf8a3abe",
   "metadata": {
    "ExecuteTime": {
     "end_time": "2022-02-02T16:20:57.673177Z",
     "start_time": "2022-02-02T16:20:57.517731Z"
    }
   },
   "outputs": [],
   "source": [
    "add_to_folder(sample_all_images, src_path, dest_path)"
   ]
  },
  {
   "cell_type": "markdown",
   "id": "614d1e6d",
   "metadata": {
    "ExecuteTime": {
     "end_time": "2022-01-31T12:12:39.663358Z",
     "start_time": "2022-01-31T12:12:39.657231Z"
    }
   },
   "source": [
    "🚀🚀🚀**We create the dataset. This are the only cells you should run!!!**"
   ]
  },
  {
   "cell_type": "code",
   "execution_count": null,
   "id": "96c9f2b4",
   "metadata": {
    "ExecuteTime": {
     "end_time": "2022-02-03T15:10:51.633457Z",
     "start_time": "2022-02-03T15:10:51.629334Z"
    }
   },
   "outputs": [],
   "source": [
    "def rescale_resize(img):\n",
    "    \"\"\"\n",
    "    This function rescales a given image\n",
    "    :param img: image to resize\n",
    "    :return: resized image\n",
    "    \"\"\"\n",
    "    return cv2.resize(img, (105, 105)) / 255"
   ]
  },
  {
   "cell_type": "code",
   "execution_count": null,
   "id": "824a4b70",
   "metadata": {
    "ExecuteTime": {
     "end_time": "2022-02-03T15:10:52.097911Z",
     "start_time": "2022-02-03T15:10:52.090234Z"
    }
   },
   "outputs": [],
   "source": [
    "def load_from_path(path,nr_rows,filtered_people):\n",
    "    \"\"\"\n",
    "    This function loads from a given path of a folder, all the content to an array\n",
    "    :param path: the path of the folder\n",
    "    :param img_num: number of images in the folder\n",
    "    :return: np array with the content of the folder\n",
    "    \"\"\"\n",
    "    imgs = []\n",
    "    dir_list = os.listdir(path)\n",
    "    \n",
    "    if 'negative_cleaned' in path:\n",
    "        for i in range(nr_rows):\n",
    "            sample = random.sample(dir_list,1)[0]\n",
    "            img = cv2.imread(os.path.join(path, sample))\n",
    "            img = rescale_resize(img)\n",
    "            imgs.append(img)\n",
    "        \n",
    "    \n",
    "    \n",
    "    else:\n",
    "        dir_list = sorted(dir_list)\n",
    "\n",
    "        img_num = len(dir_list)\n",
    "        for i in range(img_num):\n",
    "            if 'anchor' in path:\n",
    "                img = cv2.imread(os.path.join(path, dir_list[i]))\n",
    "                img = rescale_resize(img)       \n",
    "                for _ in range(filtered_people[dir_list[i][:-9]]):\n",
    "                    imgs.append(img)\n",
    "\n",
    "            elif 'positive' in path:\n",
    "                name = dir_list[i][:-9]\n",
    "                if name != \"\":\n",
    "                    files = []\n",
    "                    for name in glob.glob(path + name + '*'):\n",
    "                        files.append(name)\n",
    "                    files = sorted(files)\n",
    "                    for file in files:\n",
    "                        if file != \"\":\n",
    "                            img = cv2.imread(file)\n",
    "                            img = rescale_resize(img)\n",
    "                            imgs.append(img)\n",
    "\n",
    "\n",
    "   \n",
    "    return np.array(imgs)"
   ]
  },
  {
   "cell_type": "code",
   "execution_count": 11,
   "id": "0fbaf6ab",
   "metadata": {
    "ExecuteTime": {
     "end_time": "2022-02-03T16:25:46.819663Z",
     "start_time": "2022-02-03T16:25:46.813353Z"
    }
   },
   "outputs": [],
   "source": [
    "def df_with_path(path,nr_rows,filtered_people):\n",
    "    \"\"\"\n",
    "    This function loads from a given path of a folder, all the content to an array\n",
    "    :param path: the path of the folder\n",
    "    :param img_num: number of images in the folder\n",
    "    :return: np array with the content of the folder\n",
    "    \"\"\"\n",
    "    paths = []\n",
    "    dir_list = os.listdir(path)\n",
    "    \n",
    "    if 'negative_cleaned' in path:\n",
    "        for i in range(nr_rows):\n",
    "            sample = random.sample(dir_list,1)[0]\n",
    "            paths.append(sample)\n",
    "    \n",
    "    else:\n",
    "        dir_list = sorted(dir_list)\n",
    "        \n",
    "        img_num = len(dir_list)\n",
    "        for i in range(img_num):\n",
    "            if 'anchor' in path:       \n",
    "                for _ in range(filtered_people[dir_list[i][:-9]]):\n",
    "                    paths.append(dir_list[i])\n",
    "\n",
    "            elif 'positive' in path:\n",
    "                name = dir_list[i][:-9]\n",
    "                if name != \"\":\n",
    "                    files = []\n",
    "                    for name in glob.glob(path + name + '*'):\n",
    "                        files.append(name)\n",
    "                    files = sorted(files)\n",
    "                    for file in files:\n",
    "                        if file != \"\":\n",
    "                            paths.append(file.split(\"/\")[-1])\n",
    "                     \n",
    "\n",
    "\n",
    "   \n",
    "    return np.array(paths)"
   ]
  },
  {
   "cell_type": "code",
   "execution_count": null,
   "id": "84b3bad6",
   "metadata": {
    "ExecuteTime": {
     "end_time": "2022-02-03T16:22:34.812871Z",
     "start_time": "2022-02-03T16:22:27.767438Z"
    }
   },
   "outputs": [],
   "source": [
    "pos = df_with_path('/Users/julietastaryfurmanshalom/OneDrive/ITC/Face_Rec/data/positive/',nr_rows,filtered_people)"
   ]
  },
  {
   "cell_type": "code",
   "execution_count": null,
   "id": "6c390ebc",
   "metadata": {
    "ExecuteTime": {
     "end_time": "2022-02-03T16:22:34.818787Z",
     "start_time": "2022-02-03T16:22:34.815172Z"
    }
   },
   "outputs": [],
   "source": [
    "print(pos[:140])"
   ]
  },
  {
   "cell_type": "code",
   "execution_count": null,
   "id": "46611dc7",
   "metadata": {
    "ExecuteTime": {
     "end_time": "2022-02-03T10:27:50.272621Z",
     "start_time": "2022-02-03T10:27:50.268984Z"
    }
   },
   "outputs": [],
   "source": [
    "#pos.shape"
   ]
  },
  {
   "cell_type": "code",
   "execution_count": null,
   "id": "c0f53d4f",
   "metadata": {
    "ExecuteTime": {
     "end_time": "2022-02-03T10:27:50.464687Z",
     "start_time": "2022-02-03T10:27:50.461942Z"
    }
   },
   "outputs": [],
   "source": [
    "#pos.shape[0] - nr_rows "
   ]
  },
  {
   "cell_type": "code",
   "execution_count": 14,
   "id": "4620c0f8",
   "metadata": {
    "ExecuteTime": {
     "end_time": "2022-02-03T16:26:11.204153Z",
     "start_time": "2022-02-03T16:26:11.199760Z"
    }
   },
   "outputs": [],
   "source": [
    "def load_data():\n",
    "    \"\"\"\n",
    "    This function loads the data to three np.array (anchor, positive, negative)\n",
    "    :param img_num: number of images to load (by default 2271)\n",
    "    :return: a tuple with the np arrays X and y\n",
    "    \"\"\"\n",
    "    anchor = df_with_path('/Users/julietastaryfurmanshalom/OneDrive/ITC/Face_Rec/data/anchor/',56434,filtered_people )\n",
    "    print(anchor.shape)\n",
    "    positive = df_with_path('/Users/julietastaryfurmanshalom/OneDrive/ITC/Face_Rec/data/positive/',56434,filtered_people )\n",
    "    print(positive.shape)\n",
    "    negative = df_with_path('/Users/julietastaryfurmanshalom/OneDrive/ITC/Face_Rec/data/negative_cleaned/',56434,filtered_people )\n",
    "    print(negative.shape)\n",
    "    return (anchor, positive, negative)"
   ]
  },
  {
   "cell_type": "code",
   "execution_count": 15,
   "id": "65455b34",
   "metadata": {
    "ExecuteTime": {
     "end_time": "2022-02-03T16:26:19.123158Z",
     "start_time": "2022-02-03T16:26:11.733366Z"
    }
   },
   "outputs": [
    {
     "name": "stdout",
     "output_type": "stream",
     "text": [
      "(56434,)\n",
      "(56434,)\n",
      "(56434,)\n"
     ]
    }
   ],
   "source": [
    "anchor, positive, negative = load_data()"
   ]
  },
  {
   "cell_type": "code",
   "execution_count": 25,
   "id": "f6b5307e",
   "metadata": {
    "ExecuteTime": {
     "end_time": "2022-02-03T16:28:40.472797Z",
     "start_time": "2022-02-03T16:28:40.467944Z"
    }
   },
   "outputs": [
    {
     "data": {
      "text/plain": [
       "array(['Abdullah_Gul_0001.jpg', 'Abdullah_Gul_0001.jpg',\n",
       "       'Abdullah_Gul_0001.jpg', ..., 'Yoriko_Kawaguchi_0007.jpg',\n",
       "       'Yoriko_Kawaguchi_0007.jpg', 'Yoriko_Kawaguchi_0007.jpg'],\n",
       "      dtype='<U34')"
      ]
     },
     "execution_count": 25,
     "metadata": {},
     "output_type": "execute_result"
    }
   ],
   "source": [
    "anchor"
   ]
  },
  {
   "cell_type": "code",
   "execution_count": 41,
   "id": "f3e5ab21",
   "metadata": {
    "ExecuteTime": {
     "end_time": "2022-02-03T16:34:53.483864Z",
     "start_time": "2022-02-03T16:34:53.479317Z"
    }
   },
   "outputs": [],
   "source": [
    "def create_df(anchor,positive,negative,nr_rows):\n",
    "    df_1 = pd.DataFrame()\n",
    "    df_1['img_1'] = anchor\n",
    "    df_1['img_2'] = positive\n",
    "    df_1['label'] = np.ones(nr_rows)\n",
    "    \n",
    "    \n",
    "    df_2 = pd.DataFrame()\n",
    "    df_2['img_1'] = anchor\n",
    "    df_2['img_2'] = negative\n",
    "    df_2['label'] = np.zeros(nr_rows)\n",
    "    \n",
    "    df = pd.concat([df_1,df_2])\n",
    "    return df.reset_index().drop(columns=['index'])"
   ]
  },
  {
   "cell_type": "code",
   "execution_count": 42,
   "id": "67879444",
   "metadata": {
    "ExecuteTime": {
     "end_time": "2022-02-03T16:34:53.849907Z",
     "start_time": "2022-02-03T16:34:53.755104Z"
    }
   },
   "outputs": [],
   "source": [
    "df = create_df(anchor,positive,negative,nr_rows)"
   ]
  },
  {
   "cell_type": "code",
   "execution_count": 55,
   "id": "98fab6b2",
   "metadata": {
    "ExecuteTime": {
     "end_time": "2022-02-03T16:39:54.474558Z",
     "start_time": "2022-02-03T16:39:54.461053Z"
    }
   },
   "outputs": [
    {
     "data": {
      "text/html": [
       "<div>\n",
       "<style scoped>\n",
       "    .dataframe tbody tr th:only-of-type {\n",
       "        vertical-align: middle;\n",
       "    }\n",
       "\n",
       "    .dataframe tbody tr th {\n",
       "        vertical-align: top;\n",
       "    }\n",
       "\n",
       "    .dataframe thead th {\n",
       "        text-align: right;\n",
       "    }\n",
       "</style>\n",
       "<table border=\"1\" class=\"dataframe\">\n",
       "  <thead>\n",
       "    <tr style=\"text-align: right;\">\n",
       "      <th></th>\n",
       "      <th>img_1</th>\n",
       "      <th>img_2</th>\n",
       "      <th>label</th>\n",
       "    </tr>\n",
       "  </thead>\n",
       "  <tbody>\n",
       "    <tr>\n",
       "      <th>0</th>\n",
       "      <td>Abdullah_Gul_0001.jpg</td>\n",
       "      <td>Abdullah_Gul_0010.jpg</td>\n",
       "      <td>1.0</td>\n",
       "    </tr>\n",
       "    <tr>\n",
       "      <th>1</th>\n",
       "      <td>Abdullah_Gul_0001.jpg</td>\n",
       "      <td>Abdullah_Gul_0011.jpg</td>\n",
       "      <td>1.0</td>\n",
       "    </tr>\n",
       "    <tr>\n",
       "      <th>2</th>\n",
       "      <td>Abdullah_Gul_0001.jpg</td>\n",
       "      <td>Abdullah_Gul_0012.jpg</td>\n",
       "      <td>1.0</td>\n",
       "    </tr>\n",
       "    <tr>\n",
       "      <th>3</th>\n",
       "      <td>Abdullah_Gul_0001.jpg</td>\n",
       "      <td>Abdullah_Gul_0013.jpg</td>\n",
       "      <td>1.0</td>\n",
       "    </tr>\n",
       "    <tr>\n",
       "      <th>4</th>\n",
       "      <td>Abdullah_Gul_0001.jpg</td>\n",
       "      <td>Abdullah_Gul_0014.jpg</td>\n",
       "      <td>1.0</td>\n",
       "    </tr>\n",
       "    <tr>\n",
       "      <th>5</th>\n",
       "      <td>Abdullah_Gul_0001.jpg</td>\n",
       "      <td>Abdullah_Gul_0015.jpg</td>\n",
       "      <td>1.0</td>\n",
       "    </tr>\n",
       "    <tr>\n",
       "      <th>6</th>\n",
       "      <td>Abdullah_Gul_0001.jpg</td>\n",
       "      <td>Abdullah_Gul_0016.jpg</td>\n",
       "      <td>1.0</td>\n",
       "    </tr>\n",
       "    <tr>\n",
       "      <th>7</th>\n",
       "      <td>Abdullah_Gul_0001.jpg</td>\n",
       "      <td>Abdullah_Gul_0017.jpg</td>\n",
       "      <td>1.0</td>\n",
       "    </tr>\n",
       "    <tr>\n",
       "      <th>8</th>\n",
       "      <td>Abdullah_Gul_0001.jpg</td>\n",
       "      <td>Abdullah_Gul_0018.jpg</td>\n",
       "      <td>1.0</td>\n",
       "    </tr>\n",
       "    <tr>\n",
       "      <th>9</th>\n",
       "      <td>Abdullah_Gul_0002.jpg</td>\n",
       "      <td>Abdullah_Gul_0010.jpg</td>\n",
       "      <td>1.0</td>\n",
       "    </tr>\n",
       "    <tr>\n",
       "      <th>10</th>\n",
       "      <td>Abdullah_Gul_0002.jpg</td>\n",
       "      <td>Abdullah_Gul_0011.jpg</td>\n",
       "      <td>1.0</td>\n",
       "    </tr>\n",
       "    <tr>\n",
       "      <th>11</th>\n",
       "      <td>Abdullah_Gul_0002.jpg</td>\n",
       "      <td>Abdullah_Gul_0012.jpg</td>\n",
       "      <td>1.0</td>\n",
       "    </tr>\n",
       "    <tr>\n",
       "      <th>12</th>\n",
       "      <td>Abdullah_Gul_0002.jpg</td>\n",
       "      <td>Abdullah_Gul_0013.jpg</td>\n",
       "      <td>1.0</td>\n",
       "    </tr>\n",
       "    <tr>\n",
       "      <th>13</th>\n",
       "      <td>Abdullah_Gul_0002.jpg</td>\n",
       "      <td>Abdullah_Gul_0014.jpg</td>\n",
       "      <td>1.0</td>\n",
       "    </tr>\n",
       "    <tr>\n",
       "      <th>14</th>\n",
       "      <td>Abdullah_Gul_0002.jpg</td>\n",
       "      <td>Abdullah_Gul_0015.jpg</td>\n",
       "      <td>1.0</td>\n",
       "    </tr>\n",
       "    <tr>\n",
       "      <th>15</th>\n",
       "      <td>Abdullah_Gul_0002.jpg</td>\n",
       "      <td>Abdullah_Gul_0016.jpg</td>\n",
       "      <td>1.0</td>\n",
       "    </tr>\n",
       "    <tr>\n",
       "      <th>16</th>\n",
       "      <td>Abdullah_Gul_0002.jpg</td>\n",
       "      <td>Abdullah_Gul_0017.jpg</td>\n",
       "      <td>1.0</td>\n",
       "    </tr>\n",
       "    <tr>\n",
       "      <th>17</th>\n",
       "      <td>Abdullah_Gul_0002.jpg</td>\n",
       "      <td>Abdullah_Gul_0018.jpg</td>\n",
       "      <td>1.0</td>\n",
       "    </tr>\n",
       "    <tr>\n",
       "      <th>18</th>\n",
       "      <td>Abdullah_Gul_0003.jpg</td>\n",
       "      <td>Abdullah_Gul_0010.jpg</td>\n",
       "      <td>1.0</td>\n",
       "    </tr>\n",
       "    <tr>\n",
       "      <th>19</th>\n",
       "      <td>Abdullah_Gul_0003.jpg</td>\n",
       "      <td>Abdullah_Gul_0011.jpg</td>\n",
       "      <td>1.0</td>\n",
       "    </tr>\n",
       "  </tbody>\n",
       "</table>\n",
       "</div>"
      ],
      "text/plain": [
       "                    img_1                  img_2  label\n",
       "0   Abdullah_Gul_0001.jpg  Abdullah_Gul_0010.jpg    1.0\n",
       "1   Abdullah_Gul_0001.jpg  Abdullah_Gul_0011.jpg    1.0\n",
       "2   Abdullah_Gul_0001.jpg  Abdullah_Gul_0012.jpg    1.0\n",
       "3   Abdullah_Gul_0001.jpg  Abdullah_Gul_0013.jpg    1.0\n",
       "4   Abdullah_Gul_0001.jpg  Abdullah_Gul_0014.jpg    1.0\n",
       "5   Abdullah_Gul_0001.jpg  Abdullah_Gul_0015.jpg    1.0\n",
       "6   Abdullah_Gul_0001.jpg  Abdullah_Gul_0016.jpg    1.0\n",
       "7   Abdullah_Gul_0001.jpg  Abdullah_Gul_0017.jpg    1.0\n",
       "8   Abdullah_Gul_0001.jpg  Abdullah_Gul_0018.jpg    1.0\n",
       "9   Abdullah_Gul_0002.jpg  Abdullah_Gul_0010.jpg    1.0\n",
       "10  Abdullah_Gul_0002.jpg  Abdullah_Gul_0011.jpg    1.0\n",
       "11  Abdullah_Gul_0002.jpg  Abdullah_Gul_0012.jpg    1.0\n",
       "12  Abdullah_Gul_0002.jpg  Abdullah_Gul_0013.jpg    1.0\n",
       "13  Abdullah_Gul_0002.jpg  Abdullah_Gul_0014.jpg    1.0\n",
       "14  Abdullah_Gul_0002.jpg  Abdullah_Gul_0015.jpg    1.0\n",
       "15  Abdullah_Gul_0002.jpg  Abdullah_Gul_0016.jpg    1.0\n",
       "16  Abdullah_Gul_0002.jpg  Abdullah_Gul_0017.jpg    1.0\n",
       "17  Abdullah_Gul_0002.jpg  Abdullah_Gul_0018.jpg    1.0\n",
       "18  Abdullah_Gul_0003.jpg  Abdullah_Gul_0010.jpg    1.0\n",
       "19  Abdullah_Gul_0003.jpg  Abdullah_Gul_0011.jpg    1.0"
      ]
     },
     "execution_count": 55,
     "metadata": {},
     "output_type": "execute_result"
    }
   ],
   "source": [
    "df.head(20)"
   ]
  },
  {
   "cell_type": "code",
   "execution_count": 61,
   "id": "585cf2d3",
   "metadata": {
    "ExecuteTime": {
     "end_time": "2022-02-03T16:43:09.780314Z",
     "start_time": "2022-02-03T16:43:04.256278Z"
    }
   },
   "outputs": [],
   "source": [
    "aux = 0\n",
    "for index,row in df.iterrows():\n",
    "    if row.label == 0:\n",
    "        if row.img_1[:-9] == row.img_2[:-9]:\n",
    "            df.drop(index,inplace=True)\n",
    "            aux += 1\n",
    "            "
   ]
  },
  {
   "cell_type": "code",
   "execution_count": 62,
   "id": "eb4da6f2",
   "metadata": {
    "ExecuteTime": {
     "end_time": "2022-02-03T16:43:09.787782Z",
     "start_time": "2022-02-03T16:43:09.782565Z"
    }
   },
   "outputs": [
    {
     "data": {
      "text/plain": [
       "0"
      ]
     },
     "execution_count": 62,
     "metadata": {},
     "output_type": "execute_result"
    }
   ],
   "source": [
    "aux"
   ]
  },
  {
   "cell_type": "code",
   "execution_count": 64,
   "id": "bd365756",
   "metadata": {
    "ExecuteTime": {
     "end_time": "2022-02-03T16:43:46.233841Z",
     "start_time": "2022-02-03T16:43:45.964716Z"
    }
   },
   "outputs": [],
   "source": [
    "df.to_csv('dataframe.csv')"
   ]
  },
  {
   "cell_type": "code",
   "execution_count": null,
   "id": "5fe9cce1",
   "metadata": {
    "ExecuteTime": {
     "end_time": "2022-02-03T15:11:09.309806Z",
     "start_time": "2022-02-03T15:11:09.304817Z"
    }
   },
   "outputs": [],
   "source": [
    "def load_data():\n",
    "    \"\"\"\n",
    "    This function loads the data to three np.array (anchor, positive, negative)\n",
    "    :param img_num: number of images to load (by default 2271)\n",
    "    :return: a tuple with the np arrays X and y\n",
    "    \"\"\"\n",
    "    anchor = load_from_path('/Users/julietastaryfurmanshalom/OneDrive/ITC/Face_Rec/data/anchor/',56434,filtered_people )\n",
    "    print(anchor.shape)\n",
    "    positive = load_from_path('/Users/julietastaryfurmanshalom/OneDrive/ITC/Face_Rec/data/positive/',56434,filtered_people )\n",
    "    print(positive.shape)\n",
    "    negative = load_from_path('/Users/julietastaryfurmanshalom/OneDrive/ITC/Face_Rec/data/negative_cleaned/',56434,filtered_people )\n",
    "    print(negative.shape)\n",
    "    return (anchor, positive, negative"
   ]
  },
  {
   "cell_type": "code",
   "execution_count": null,
   "id": "faa3169c",
   "metadata": {},
   "outputs": [],
   "source": []
  },
  {
   "cell_type": "code",
   "execution_count": null,
   "id": "de4478de",
   "metadata": {
    "ExecuteTime": {
     "end_time": "2022-02-03T15:16:52.858939Z",
     "start_time": "2022-02-03T15:11:10.287507Z"
    },
    "scrolled": true
   },
   "outputs": [],
   "source": [
    "anchor,positive,negative = load_data()"
   ]
  },
  {
   "cell_type": "code",
   "execution_count": null,
   "id": "a73deeea",
   "metadata": {
    "ExecuteTime": {
     "end_time": "2022-02-03T15:21:15.883755Z",
     "start_time": "2022-02-03T15:21:15.877286Z"
    }
   },
   "outputs": [],
   "source": [
    "len(anchor[0:128])"
   ]
  },
  {
   "cell_type": "code",
   "execution_count": null,
   "id": "47cb172f",
   "metadata": {
    "ExecuteTime": {
     "end_time": "2022-02-03T15:27:56.365799Z",
     "start_time": "2022-02-03T15:27:56.360699Z"
    }
   },
   "outputs": [],
   "source": [
    "def create_batches(anchor, positive, negative):\n",
    "    nr_batch = 0\n",
    "    for i in range(0,len(anchor), 128):\n",
    "        top = min(i + 128, len(anchor))\n",
    "        X = np.concatenate([np.array([anchor[i:top], positive[i:top]]), np.array([anchor[i:top], negative[i:top]])], axis=1)\n",
    "        y = np.concatenate([np.ones(128), np.zeros(128)], axis=0) \n",
    "        nr_batch += 1\n",
    "        np.save(\"dataset/X_batch_\" + str(nr_batch) , X)\n",
    "        np.save(\"dataset/y_batch_\" + str(nr_batch) , y)"
   ]
  },
  {
   "cell_type": "code",
   "execution_count": null,
   "id": "5b327e4a",
   "metadata": {
    "ExecuteTime": {
     "end_time": "2022-02-03T15:36:32.379293Z",
     "start_time": "2022-02-03T15:28:04.175833Z"
    }
   },
   "outputs": [],
   "source": [
    "create_batches(anchor, positive, negative)"
   ]
  },
  {
   "cell_type": "code",
   "execution_count": null,
   "id": "28321a47",
   "metadata": {},
   "outputs": [],
   "source": []
  }
 ],
 "metadata": {
  "kernelspec": {
   "display_name": "Python 3 (ipykernel)",
   "language": "python",
   "name": "python3"
  },
  "language_info": {
   "codemirror_mode": {
    "name": "ipython",
    "version": 3
   },
   "file_extension": ".py",
   "mimetype": "text/x-python",
   "name": "python",
   "nbconvert_exporter": "python",
   "pygments_lexer": "ipython3",
   "version": "3.8.12"
  },
  "toc": {
   "base_numbering": 1,
   "nav_menu": {},
   "number_sections": true,
   "sideBar": true,
   "skip_h1_title": false,
   "title_cell": "Table of Contents",
   "title_sidebar": "Contents",
   "toc_cell": false,
   "toc_position": {},
   "toc_section_display": true,
   "toc_window_display": false
  }
 },
 "nbformat": 4,
 "nbformat_minor": 5
}
