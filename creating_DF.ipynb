{
 "cells": [
  {
   "cell_type": "markdown",
   "id": "358e1a7d",
   "metadata": {},
   "source": [
    "# CREATING DATAFRAME"
   ]
  },
  {
   "cell_type": "code",
   "execution_count": 1,
   "id": "e075947a",
   "metadata": {
    "ExecuteTime": {
     "end_time": "2022-02-05T15:40:20.021041Z",
     "start_time": "2022-02-05T15:40:19.432715Z"
    }
   },
   "outputs": [],
   "source": [
    "import numpy as np\n",
    "import os\n",
    "import conf as config\n",
    "import creating_DF as cdf\n",
    "import cv2\n",
    "import random\n",
    "import glob\n",
    "import pandas as pd\n",
    "from collections import Counter\n",
    "from random import sample,seed\n",
    "seed(123)"
   ]
  },
  {
   "cell_type": "markdown",
   "id": "1f716fa1",
   "metadata": {},
   "source": [
    "We need to make sure we have pictures of ourselves and from random people in all of our folders in a balanced way (positive, negative and anchor)."
   ]
  },
  {
   "cell_type": "markdown",
   "id": "56c89604",
   "metadata": {},
   "source": [
    "⚠️⚠️⚠️ `This code was ran once with some variations before the folders were correctly filled with the desired images, you only need to run the last cells`"
   ]
  },
  {
   "cell_type": "markdown",
   "id": "5ee1b80b",
   "metadata": {},
   "source": [
    "**We create lists with all the people from LFW dataset**"
   ]
  },
  {
   "cell_type": "code",
   "execution_count": null,
   "id": "67ffd070",
   "metadata": {
    "ExecuteTime": {
     "end_time": "2022-02-03T18:11:58.119482Z",
     "start_time": "2022-02-03T18:11:58.013434Z"
    }
   },
   "outputs": [],
   "source": [
    "dir_list = os.listdir(config.NEG_PATH)\n",
    "neg_list = sorted(dir_list)"
   ]
  },
  {
   "cell_type": "markdown",
   "id": "4aa5b6f8",
   "metadata": {
    "ExecuteTime": {
     "end_time": "2022-01-30T19:31:50.021538Z",
     "start_time": "2022-01-30T19:31:50.017899Z"
    }
   },
   "source": [
    "**We get the names and we look for those people that appears more than 10 times**"
   ]
  },
  {
   "cell_type": "code",
   "execution_count": null,
   "id": "7edddf28",
   "metadata": {
    "ExecuteTime": {
     "end_time": "2022-02-03T18:11:58.354435Z",
     "start_time": "2022-02-03T18:11:58.341815Z"
    }
   },
   "outputs": [],
   "source": [
    "name = [person[:-9] for person in neg_list]\n",
    "freq_person = Counter(name)\n",
    "pairs = freq_person.items()\n",
    "filtered_people = {key: value for key, value in pairs if value > 9}"
   ]
  },
  {
   "cell_type": "code",
   "execution_count": null,
   "id": "d622a177",
   "metadata": {
    "ExecuteTime": {
     "end_time": "2022-02-03T18:11:58.493849Z",
     "start_time": "2022-02-03T18:11:58.475885Z"
    }
   },
   "outputs": [],
   "source": [
    "filtered_people "
   ]
  },
  {
   "cell_type": "code",
   "execution_count": null,
   "id": "9597d98b",
   "metadata": {
    "ExecuteTime": {
     "end_time": "2022-02-03T18:11:58.634716Z",
     "start_time": "2022-02-03T18:11:58.630423Z"
    }
   },
   "outputs": [],
   "source": [
    "for key in filtered_people.keys():\n",
    "    if key != 'Julieta_Staryfurman' and key != 'Sahar_Garber' and key != 'Noam_Pinhas_Cohen':\n",
    "        filtered_people[key] = filtered_people[key] // 2"
   ]
  },
  {
   "cell_type": "code",
   "execution_count": null,
   "id": "34a01d47",
   "metadata": {
    "ExecuteTime": {
     "end_time": "2022-02-03T18:11:58.765062Z",
     "start_time": "2022-02-03T18:11:58.761220Z"
    }
   },
   "outputs": [],
   "source": [
    "#nr_rows = 3 * (25**2)\n",
    "nr_rows = 0\n",
    "for value in filtered_people.values():\n",
    "    nr_rows += (value**2)\n"
   ]
  },
  {
   "cell_type": "code",
   "execution_count": null,
   "id": "400cc492",
   "metadata": {
    "ExecuteTime": {
     "end_time": "2022-02-03T18:11:59.306049Z",
     "start_time": "2022-02-03T18:11:59.301074Z"
    }
   },
   "outputs": [],
   "source": [
    "len(filtered_people)"
   ]
  },
  {
   "cell_type": "code",
   "execution_count": null,
   "id": "5f5d69de",
   "metadata": {
    "ExecuteTime": {
     "end_time": "2022-02-03T18:11:59.647960Z",
     "start_time": "2022-02-03T18:11:59.642845Z"
    }
   },
   "outputs": [],
   "source": [
    "nr_rows"
   ]
  },
  {
   "cell_type": "code",
   "execution_count": null,
   "id": "aea94f64",
   "metadata": {
    "ExecuteTime": {
     "end_time": "2022-02-03T18:12:00.190294Z",
     "start_time": "2022-02-03T18:12:00.179991Z"
    }
   },
   "outputs": [],
   "source": [
    "filtered_people"
   ]
  },
  {
   "cell_type": "markdown",
   "id": "f0f9cc9e",
   "metadata": {},
   "source": [
    "**We save half of the pictures of those people that appears more than 10 times in the anchor folder and the other half in the positive file**"
   ]
  },
  {
   "cell_type": "code",
   "execution_count": null,
   "id": "6fd287b1",
   "metadata": {
    "ExecuteTime": {
     "end_time": "2022-02-02T16:20:53.734729Z",
     "start_time": "2022-02-02T16:20:53.725234Z"
    }
   },
   "outputs": [],
   "source": [
    "new_path_anchor = []\n",
    "new_path_positive = []\n",
    "for k,v in filtered_people.items():\n",
    "    for i in range(1,v//2+1):\n",
    "        new_path_anchor.append(k + '_' + '0'*(4-len(str(i))) + str(i) +'.jpg')\n",
    "    for i in range(v//2+1,((v//2)*2)+1):\n",
    "        new_path_positive.append(k + '_' + '0'*(4-len(str(i))) + str(i) +'.jpg')"
   ]
  },
  {
   "cell_type": "code",
   "execution_count": null,
   "id": "5c8dc11a",
   "metadata": {
    "ExecuteTime": {
     "end_time": "2022-02-02T16:20:53.743235Z",
     "start_time": "2022-02-02T16:20:53.737456Z"
    }
   },
   "outputs": [],
   "source": [
    "len(new_path_anchor) == len(new_path_positive) "
   ]
  },
  {
   "cell_type": "markdown",
   "id": "53fcfdf1",
   "metadata": {},
   "source": [
    "**We changed the name of the pictures of ourselves so that it follows the same logic as in the lfw dataset.**"
   ]
  },
  {
   "cell_type": "code",
   "execution_count": null,
   "id": "34f6a2e8",
   "metadata": {
    "ExecuteTime": {
     "end_time": "2022-02-02T16:20:53.759917Z",
     "start_time": "2022-02-02T16:20:53.747480Z"
    }
   },
   "outputs": [],
   "source": [
    "path = '/Users/julietastaryfurmanshalom/OneDrive/ITC/Face_Rec/sahar/anchor'\n",
    "name = 'Sahar_Garber'"
   ]
  },
  {
   "cell_type": "code",
   "execution_count": null,
   "id": "24eddc19",
   "metadata": {
    "ExecuteTime": {
     "end_time": "2022-02-02T16:20:53.778671Z",
     "start_time": "2022-02-02T16:20:53.763636Z"
    }
   },
   "outputs": [],
   "source": [
    "cdf.changing_names(path,name)"
   ]
  },
  {
   "cell_type": "markdown",
   "id": "7903f1e3",
   "metadata": {},
   "source": [
    "**We make sure we have all the images in all of the folders**"
   ]
  },
  {
   "cell_type": "code",
   "execution_count": null,
   "id": "e26330b4",
   "metadata": {
    "ExecuteTime": {
     "end_time": "2022-02-02T16:20:53.783936Z",
     "start_time": "2022-02-02T16:20:53.781018Z"
    }
   },
   "outputs": [],
   "source": [
    "src_path = '/Users/julietastaryfurmanshalom/OneDrive/ITC/Face_Rec/data/negative/'\n",
    "dest_path = '/Users/julietastaryfurmanshalom/OneDrive/ITC/Face_Rec/data/anchor/'"
   ]
  },
  {
   "cell_type": "code",
   "execution_count": null,
   "id": "9bc4fe83",
   "metadata": {
    "ExecuteTime": {
     "end_time": "2022-02-02T16:20:54.601769Z",
     "start_time": "2022-02-02T16:20:53.786660Z"
    }
   },
   "outputs": [],
   "source": [
    "cdf.add_to_folder(new_path_anchor, src_path, dest_path)"
   ]
  },
  {
   "cell_type": "code",
   "execution_count": null,
   "id": "01f052ef",
   "metadata": {
    "ExecuteTime": {
     "end_time": "2022-02-02T16:20:54.617693Z",
     "start_time": "2022-02-02T16:20:54.604715Z"
    }
   },
   "outputs": [],
   "source": [
    "pos_images = os.listdir(config.POS_PATH)\n",
    "anchor_images = os.listdir(config.ANC_PATH)\n",
    "all_images = pos_images + anchor_images"
   ]
  },
  {
   "cell_type": "code",
   "execution_count": null,
   "id": "552df494",
   "metadata": {
    "ExecuteTime": {
     "end_time": "2022-02-02T16:20:54.623420Z",
     "start_time": "2022-02-02T16:20:54.619290Z"
    }
   },
   "outputs": [],
   "source": [
    "src_path = '/Users/julietastaryfurmanshalom/OneDrive/ITC/Face_Rec/data/positive/'\n",
    "dest_path = '/Users/julietastaryfurmanshalom/OneDrive/ITC/Face_Rec/data/negative/'"
   ]
  },
  {
   "cell_type": "code",
   "execution_count": null,
   "id": "d7ba9e3f",
   "metadata": {
    "ExecuteTime": {
     "end_time": "2022-02-02T16:20:54.632843Z",
     "start_time": "2022-02-02T16:20:54.626294Z"
    }
   },
   "outputs": [],
   "source": [
    "sample_all_images = sample(list(set(all_images)),len(pos_images))"
   ]
  },
  {
   "cell_type": "code",
   "execution_count": null,
   "id": "77e4ba2a",
   "metadata": {
    "ExecuteTime": {
     "end_time": "2022-02-02T16:20:57.507075Z",
     "start_time": "2022-02-02T16:20:54.640160Z"
    }
   },
   "outputs": [],
   "source": [
    "cdf.add_to_folder(pos_images, src_path, dest_path)"
   ]
  },
  {
   "cell_type": "code",
   "execution_count": null,
   "id": "7955ef0f",
   "metadata": {
    "ExecuteTime": {
     "end_time": "2022-02-02T16:20:57.514123Z",
     "start_time": "2022-02-02T16:20:57.508839Z"
    }
   },
   "outputs": [],
   "source": [
    "src_path = '/Users/julietastaryfurmanshalom/OneDrive/ITC/Face_Rec/data/negative/'\n",
    "dest_path = '/Users/julietastaryfurmanshalom/OneDrive/ITC/Face_Rec/data/negative_cleaned/'"
   ]
  },
  {
   "cell_type": "code",
   "execution_count": null,
   "id": "cf8a3abe",
   "metadata": {
    "ExecuteTime": {
     "end_time": "2022-02-02T16:20:57.673177Z",
     "start_time": "2022-02-02T16:20:57.517731Z"
    }
   },
   "outputs": [],
   "source": [
    "add_to_folder(sample_all_images, src_path, dest_path)"
   ]
  },
  {
   "cell_type": "markdown",
   "id": "614d1e6d",
   "metadata": {
    "ExecuteTime": {
     "end_time": "2022-01-31T12:12:39.663358Z",
     "start_time": "2022-01-31T12:12:39.657231Z"
    }
   },
   "source": [
    "🚀🚀🚀**We create the dataset. This are the only cells you should run!!!**"
   ]
  },
  {
   "cell_type": "code",
   "execution_count": 2,
   "id": "af5c2fcc",
   "metadata": {
    "ExecuteTime": {
     "end_time": "2022-02-05T15:40:35.134647Z",
     "start_time": "2022-02-05T15:40:27.712354Z"
    }
   },
   "outputs": [
    {
     "name": "stdout",
     "output_type": "stream",
     "text": [
      "(56434,)\n",
      "(56434,)\n",
      "(56434,)\n"
     ]
    }
   ],
   "source": [
    "anchor, positive, negative = cdf.load_data()"
   ]
  },
  {
   "cell_type": "code",
   "execution_count": 3,
   "id": "47d3ac14",
   "metadata": {
    "ExecuteTime": {
     "end_time": "2022-02-05T15:40:35.241733Z",
     "start_time": "2022-02-05T15:40:35.137129Z"
    }
   },
   "outputs": [],
   "source": [
    "df = cdf.create_df(anchor,positive,negative)"
   ]
  },
  {
   "cell_type": "code",
   "execution_count": 4,
   "id": "59c3eace",
   "metadata": {
    "ExecuteTime": {
     "end_time": "2022-02-05T15:40:52.697865Z",
     "start_time": "2022-02-05T15:40:35.243221Z"
    }
   },
   "outputs": [],
   "source": [
    "df = cdf.delete_bad_labels(df)"
   ]
  },
  {
   "cell_type": "code",
   "execution_count": 5,
   "id": "6d9aa935",
   "metadata": {
    "ExecuteTime": {
     "end_time": "2022-02-05T15:40:53.173883Z",
     "start_time": "2022-02-05T15:40:52.701063Z"
    }
   },
   "outputs": [],
   "source": [
    "cdf.save_df(df)"
   ]
  },
  {
   "cell_type": "code",
   "execution_count": null,
   "id": "ce44819e",
   "metadata": {},
   "outputs": [],
   "source": []
  },
  {
   "cell_type": "code",
   "execution_count": null,
   "id": "5f613c3f",
   "metadata": {},
   "outputs": [],
   "source": []
  },
  {
   "cell_type": "code",
   "execution_count": null,
   "id": "411e6640",
   "metadata": {},
   "outputs": [],
   "source": []
  }
 ],
 "metadata": {
  "kernelspec": {
   "display_name": "Python 3 (ipykernel)",
   "language": "python",
   "name": "python3"
  },
  "language_info": {
   "codemirror_mode": {
    "name": "ipython",
    "version": 3
   },
   "file_extension": ".py",
   "mimetype": "text/x-python",
   "name": "python",
   "nbconvert_exporter": "python",
   "pygments_lexer": "ipython3",
   "version": "3.8.2"
  },
  "toc": {
   "base_numbering": 1,
   "nav_menu": {},
   "number_sections": true,
   "sideBar": true,
   "skip_h1_title": false,
   "title_cell": "Table of Contents",
   "title_sidebar": "Contents",
   "toc_cell": false,
   "toc_position": {},
   "toc_section_display": true,
   "toc_window_display": false
  }
 },
 "nbformat": 4,
 "nbformat_minor": 5
}
