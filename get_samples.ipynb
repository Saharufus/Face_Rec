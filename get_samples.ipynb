{
 "cells": [
  {
   "cell_type": "markdown",
   "id": "f8d2d1e0",
   "metadata": {},
   "source": [
    "# Imports"
   ]
  },
  {
   "cell_type": "code",
   "execution_count": 1,
   "id": "ac1e4315",
   "metadata": {},
   "outputs": [],
   "source": [
    "import cv2\n",
    "import os\n",
    "import numpy as np\n",
    "import matplotlib.pyplot as plt\n",
    "import requests\n",
    "import shutil"
   ]
  },
  {
   "cell_type": "markdown",
   "id": "c7b23070",
   "metadata": {},
   "source": [
    "# Make Dirs"
   ]
  },
  {
   "cell_type": "code",
   "execution_count": 2,
   "id": "24b0d4db",
   "metadata": {},
   "outputs": [],
   "source": [
    "try:\n",
    "    os.makedirs('data')\n",
    "except FileExistsError:\n",
    "    pass"
   ]
  },
  {
   "cell_type": "markdown",
   "id": "117534eb",
   "metadata": {},
   "source": [
    "# Get LFW"
   ]
  },
  {
   "cell_type": "code",
   "execution_count": 3,
   "id": "d0e7b414",
   "metadata": {},
   "outputs": [],
   "source": [
    "link = 'http://vis-www.cs.umass.edu/lfw/lfw.tgz'\n",
    "if 'lfw.tgz' not in os.listdir():\n",
    "    file = requests.get(link, allow_redirects=True)\n",
    "    with open('lfw.tgz', 'wb') as on_comp:\n",
    "        on_comp.write(file.content)"
   ]
  },
  {
   "cell_type": "markdown",
   "id": "0a9e6de1",
   "metadata": {},
   "source": [
    "### Extract zip"
   ]
  },
  {
   "cell_type": "code",
   "execution_count": 4,
   "id": "bc5a2009",
   "metadata": {},
   "outputs": [],
   "source": [
    "! tar -xf lfw.tgz"
   ]
  },
  {
   "cell_type": "markdown",
   "id": "42c4d95c",
   "metadata": {},
   "source": [
    "# Enrich"
   ]
  },
  {
   "cell_type": "code",
   "execution_count": 5,
   "id": "cf862dde",
   "metadata": {},
   "outputs": [],
   "source": [
    "name = 'Sahar_Garber'\n",
    "os.makedirs(os.path.join('lfw', name))\n",
    "cap = cv2.VideoCapture(0)\n",
    "start_frame = 180\n",
    "pic_num = 1\n",
    "while cap.isOpened():\n",
    "    ret, frame = cap.read()\n",
    "    frame = frame[start_frame:start_frame+250, start_frame:start_frame+250]\n",
    "    cv2.imshow('image', frame)\n",
    "    \n",
    "    if cv2.waitKey(1) & 0XFF == ord('z'):\n",
    "        imname = os.path.join('lfw', name, f'{name}_{pic_num}.jpg')\n",
    "        cv2.imwrite(imname, frame)\n",
    "        pic_num += 1\n",
    "    \n",
    "    if cv2.waitKey(1) & 0XFF == ord('q'):\n",
    "        break\n",
    "\n",
    "cap.release()\n",
    "cv2.destroyAllWindows()"
   ]
  },
  {
   "cell_type": "markdown",
   "id": "f291b012",
   "metadata": {},
   "source": [
    "# Fill data folder"
   ]
  },
  {
   "cell_type": "code",
   "execution_count": 6,
   "id": "55eafcc7",
   "metadata": {},
   "outputs": [],
   "source": [
    "for directory in os.listdir('lfw'):\n",
    "    person_list_dir = os.listdir(os.path.join('lfw', directory))\n",
    "    if len(person_list_dir) > 1:\n",
    "        for file in person_list_dir:\n",
    "            EX_PATH = os.path.join('lfw', directory, file)\n",
    "            shutil.copy(EX_PATH, 'data')"
   ]
  }
 ],
 "metadata": {
  "kernelspec": {
   "display_name": "Python 3 (ipykernel)",
   "language": "python",
   "name": "python3"
  },
  "language_info": {
   "codemirror_mode": {
    "name": "ipython",
    "version": 3
   },
   "file_extension": ".py",
   "mimetype": "text/x-python",
   "name": "python",
   "nbconvert_exporter": "python",
   "pygments_lexer": "ipython3",
   "version": "3.9.7"
  }
 },
 "nbformat": 4,
 "nbformat_minor": 5
}
