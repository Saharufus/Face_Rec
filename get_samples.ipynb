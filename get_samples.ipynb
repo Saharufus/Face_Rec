{
 "cells": [
  {
   "cell_type": "markdown",
   "id": "f8d2d1e0",
   "metadata": {},
   "source": [
    "# Imports"
   ]
  },
  {
   "cell_type": "code",
   "execution_count": 1,
   "id": "ac1e4315",
   "metadata": {},
   "outputs": [],
   "source": [
    "import cv2\n",
    "import os\n",
    "import numpy as np\n",
    "import matplotlib.pyplot as plt\n",
    "import uuid\n",
    "import requests\n",
    "import shutil"
   ]
  },
  {
   "cell_type": "markdown",
   "id": "883307a6",
   "metadata": {},
   "source": [
    "# Set Path"
   ]
  },
  {
   "cell_type": "code",
   "execution_count": 2,
   "id": "657ceb17",
   "metadata": {},
   "outputs": [],
   "source": [
    "POS_PATH = os.path.join('data', 'positive')\n",
    "NEG_PATH = os.path.join('data', 'negative')\n",
    "ANC_PATH = os.path.join('data', 'anchor')"
   ]
  },
  {
   "cell_type": "markdown",
   "id": "c7b23070",
   "metadata": {},
   "source": [
    "# Make Dirs"
   ]
  },
  {
   "cell_type": "code",
   "execution_count": 3,
   "id": "24b0d4db",
   "metadata": {},
   "outputs": [],
   "source": [
    "try:\n",
    "    os.makedirs(POS_PATH)\n",
    "    os.makedirs(NEG_PATH)\n",
    "    os.makedirs(ANC_PATH)\n",
    "except FileExistsError:\n",
    "    pass"
   ]
  },
  {
   "cell_type": "markdown",
   "id": "117534eb",
   "metadata": {},
   "source": [
    "# Get Negative"
   ]
  },
  {
   "cell_type": "code",
   "execution_count": 4,
   "id": "d0e7b414",
   "metadata": {},
   "outputs": [],
   "source": [
    "# link = 'http://vis-www.cs.umass.edu/lfw/lfw.tgz'\n",
    "# file = requests.get(link, allow_redirects=True)\n",
    "# with open('lfw.tgz', 'wb') as on_comp:\n",
    "#     on_comp.write(file.content)"
   ]
  },
  {
   "cell_type": "code",
   "execution_count": 5,
   "id": "bc5a2009",
   "metadata": {},
   "outputs": [],
   "source": [
    "# ! tar -xf lfw.tgz"
   ]
  },
  {
   "cell_type": "code",
   "execution_count": 6,
   "id": "55eafcc7",
   "metadata": {},
   "outputs": [],
   "source": [
    "# for directory in os.listdir('lfw'):\n",
    "#     for file in os.listdir(os.path.join('lfw', directory)):\n",
    "#         EX_PATH = os.path.join('lfw', directory, file)\n",
    "#         NEW_PATH = os.path.join(NEG_PATH)\n",
    "#         shutil.move(EX_PATH, NEW_PATH)"
   ]
  },
  {
   "cell_type": "markdown",
   "id": "42c4d95c",
   "metadata": {},
   "source": [
    "# Get Positive and Anchor"
   ]
  },
  {
   "cell_type": "code",
   "execution_count": 7,
   "id": "cf862dde",
   "metadata": {},
   "outputs": [
    {
     "name": "stdout",
     "output_type": "stream",
     "text": [
      "positive_pics = 520\n",
      "anchor_pics = 514\n"
     ]
    }
   ],
   "source": [
    "cap = cv2.VideoCapture(0)\n",
    "start_frame = 180\n",
    "positive_pics = 0\n",
    "anchor_pics = 0\n",
    "while cap.isOpened():\n",
    "    ret, frame = cap.read()\n",
    "    frame = frame[start_frame:start_frame+250, start_frame:start_frame+250]\n",
    "    cv2.imshow('im', frame)\n",
    "    \n",
    "    if cv2.waitKey(1) & 0XFF == ord('p'):\n",
    "        imname = os.path.join(POS_PATH, f'{uuid.uuid1()}.jpg')\n",
    "        cv2.imwrite(imname, frame)\n",
    "        positive_pics += 1\n",
    "        \n",
    "    if cv2.waitKey(1) & 0XFF == ord('a'):\n",
    "        imname = os.path.join(ANC_PATH, f'{uuid.uuid1()}.jpg')\n",
    "        cv2.imwrite(imname, frame)\n",
    "        anchor_pics += 1\n",
    "    \n",
    "    if cv2.waitKey(1) & 0XFF == ord('q'):\n",
    "        break\n",
    "\n",
    "print(f'{positive_pics = }')\n",
    "print(f'{anchor_pics = }')\n",
    "cap.release()\n",
    "cv2.destroyAllWindows()"
   ]
  }
 ],
 "metadata": {
  "kernelspec": {
   "display_name": "Python 3 (ipykernel)",
   "language": "python",
   "name": "python3"
  },
  "language_info": {
   "codemirror_mode": {
    "name": "ipython",
    "version": 3
   },
   "file_extension": ".py",
   "mimetype": "text/x-python",
   "name": "python",
   "nbconvert_exporter": "python",
   "pygments_lexer": "ipython3",
   "version": "3.9.7"
  }
 },
 "nbformat": 4,
 "nbformat_minor": 5
}
