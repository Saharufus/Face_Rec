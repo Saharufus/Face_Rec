{
 "cells": [
  {
   "cell_type": "markdown",
   "id": "27ace5d2",
   "metadata": {},
   "source": [
    "# BASELINE MODEL"
   ]
  },
  {
   "cell_type": "code",
<<<<<<< HEAD
   "execution_count": 12,
   "id": "7d87c974",
   "metadata": {
    "ExecuteTime": {
     "end_time": "2022-01-31T12:31:35.687911Z",
     "start_time": "2022-01-31T12:31:35.683287Z"
=======
<<<<<<< HEAD
   "execution_count": 12,
   "id": "7d87c974",
   "metadata": {
    "ExecuteTime": {
     "end_time": "2022-01-31T12:31:35.687911Z",
     "start_time": "2022-01-31T12:31:35.683287Z"
=======
>>>>>>> fff872533f17b7a45b43ad55ea5f507391e1a342
   "execution_count": 1,
   "id": "7d87c974",
   "metadata": {
    "ExecuteTime": {
     "end_time": "2022-01-17T20:08:17.711655Z",
     "start_time": "2022-01-17T20:08:10.623350Z"
<<<<<<< HEAD
>>>>>>> fff872533f17b7a45b43ad55ea5f507391e1a342
=======
>>>>>>> fff872533f17b7a45b43ad55ea5f507391e1a342
>>>>>>> main
    }
   },
   "outputs": [],
   "source": [
    "import preprocessing as pp\n",
    "import conf as c\n",
    "import baseline_model as bm\n",
    "import pandas as pd\n",
    "import tensorflow as tf\n",
    "import os\n",
    "import numpy as np\n",
    "import tensorflow_datasets as tfds\n",
    "from sklearn.naive_bayes import GaussianNB\n",
    "from sklearn.metrics import accuracy_score\n",
    "import seaborn as sns\n",
    "import warnings\n",
    "warnings.filterwarnings('ignore')"
   ]
  },
  {
   "cell_type": "markdown",
   "id": "5bc0e2de",
   "metadata": {},
   "source": [
    "### We create a tensorflow dataset with the data from the different folders"
   ]
  },
  {
   "cell_type": "code",
   "execution_count": 2,
   "id": "4c86650f",
   "metadata": {
    "ExecuteTime": {
<<<<<<< HEAD
     "end_time": "2022-01-31T12:29:41.968432Z",
     "start_time": "2022-01-31T12:29:41.840870Z"
=======
<<<<<<< HEAD
<<<<<<< HEAD
     "end_time": "2022-01-31T12:29:41.968432Z",
     "start_time": "2022-01-31T12:29:41.840870Z"
=======
     "end_time": "2022-01-17T20:08:17.797101Z",
     "start_time": "2022-01-17T20:08:17.714900Z"
>>>>>>> fff872533f17b7a45b43ad55ea5f507391e1a342
=======
     "end_time": "2022-01-17T20:08:17.797101Z",
     "start_time": "2022-01-17T20:08:17.714900Z"
>>>>>>> fff872533f17b7a45b43ad55ea5f507391e1a342
>>>>>>> main
    }
   },
   "outputs": [
    {
     "name": "stderr",
     "output_type": "stream",
     "text": [
<<<<<<< HEAD
      "2022-01-31 14:29:41.843949: I tensorflow/core/platform/cpu_feature_guard.cc:151] This TensorFlow binary is optimized with oneAPI Deep Neural Network Library (oneDNN) to use the following CPU instructions in performance-critical operations:  AVX2 FMA\n",
=======
<<<<<<< HEAD
<<<<<<< HEAD
      "2022-01-31 14:29:41.843949: I tensorflow/core/platform/cpu_feature_guard.cc:151] This TensorFlow binary is optimized with oneAPI Deep Neural Network Library (oneDNN) to use the following CPU instructions in performance-critical operations:  AVX2 FMA\n",
=======
      "2022-01-17 21:08:17.716983: I tensorflow/core/platform/cpu_feature_guard.cc:151] This TensorFlow binary is optimized with oneAPI Deep Neural Network Library (oneDNN) to use the following CPU instructions in performance-critical operations:  AVX2 FMA\n",
>>>>>>> fff872533f17b7a45b43ad55ea5f507391e1a342
=======
      "2022-01-17 21:08:17.716983: I tensorflow/core/platform/cpu_feature_guard.cc:151] This TensorFlow binary is optimized with oneAPI Deep Neural Network Library (oneDNN) to use the following CPU instructions in performance-critical operations:  AVX2 FMA\n",
>>>>>>> fff872533f17b7a45b43ad55ea5f507391e1a342
>>>>>>> main
      "To enable them in other operations, rebuild TensorFlow with the appropriate compiler flags.\n"
     ]
    }
   ],
   "source": [
<<<<<<< HEAD
    "anchor = tf.data.Dataset.list_files(os.path.join(c.ANC_PATH, '*.jpg')).take(2271)\n",
    "positive = tf.data.Dataset.list_files(os.path.join(c.POS_PATH, '*.jpg')).take(2271)\n",
    "negative = tf.data.Dataset.list_files(os.path.join(c.NEG_PATH_CLEANED, '*.jpg')).take(2271);"
=======
<<<<<<< HEAD
<<<<<<< HEAD
    "anchor = tf.data.Dataset.list_files(os.path.join(c.ANC_PATH, '*.jpg')).take(2271)\n",
    "positive = tf.data.Dataset.list_files(os.path.join(c.POS_PATH, '*.jpg')).take(2271)\n",
    "negative = tf.data.Dataset.list_files(os.path.join(c.NEG_PATH_CLEANED, '*.jpg')).take(2271);"
=======
    "anchor = tf.data.Dataset.list_files(os.path.join(c.ANC_PATH, '*.jpg')).take(100)\n",
    "positive = tf.data.Dataset.list_files(os.path.join(c.POS_PATH, '*.jpg')).take(100)\n",
    "negative = tf.data.Dataset.list_files(os.path.join(c.NEG_PATH, '*.jpg')).take(100);"
>>>>>>> fff872533f17b7a45b43ad55ea5f507391e1a342
=======
    "anchor = tf.data.Dataset.list_files(os.path.join(c.ANC_PATH, '*.jpg')).take(100)\n",
    "positive = tf.data.Dataset.list_files(os.path.join(c.POS_PATH, '*.jpg')).take(100)\n",
    "negative = tf.data.Dataset.list_files(os.path.join(c.NEG_PATH, '*.jpg')).take(100);"
>>>>>>> fff872533f17b7a45b43ad55ea5f507391e1a342
>>>>>>> main
   ]
  },
  {
   "cell_type": "code",
   "execution_count": 3,
   "id": "e192d9ac",
   "metadata": {
    "ExecuteTime": {
<<<<<<< HEAD
     "end_time": "2022-01-31T12:29:42.097447Z",
     "start_time": "2022-01-31T12:29:41.971927Z"
=======
<<<<<<< HEAD
<<<<<<< HEAD
     "end_time": "2022-01-31T12:29:42.097447Z",
     "start_time": "2022-01-31T12:29:41.971927Z"
=======
     "end_time": "2022-01-17T20:08:17.896209Z",
     "start_time": "2022-01-17T20:08:17.799685Z"
>>>>>>> fff872533f17b7a45b43ad55ea5f507391e1a342
=======
     "end_time": "2022-01-17T20:08:17.896209Z",
     "start_time": "2022-01-17T20:08:17.799685Z"
>>>>>>> fff872533f17b7a45b43ad55ea5f507391e1a342
>>>>>>> main
    }
   },
   "outputs": [],
   "source": [
    "data = pp.create_dataset(anchor, positive, negative)\n",
    "train, test = pp.split_train_test(data, 0.8, batch_size=1)"
   ]
  },
  {
   "cell_type": "markdown",
   "id": "914eb93f",
   "metadata": {},
   "source": [
    "### We transform the TF dataframe to a pandas dataframe"
   ]
  },
  {
   "cell_type": "code",
   "execution_count": 4,
   "id": "650a3d04",
   "metadata": {
    "ExecuteTime": {
<<<<<<< HEAD
     "end_time": "2022-01-31T12:29:42.111856Z",
     "start_time": "2022-01-31T12:29:42.105588Z"
=======
<<<<<<< HEAD
<<<<<<< HEAD
     "end_time": "2022-01-31T12:29:42.111856Z",
     "start_time": "2022-01-31T12:29:42.105588Z"
=======
     "end_time": "2022-01-17T20:08:17.901635Z",
     "start_time": "2022-01-17T20:08:17.898004Z"
>>>>>>> fff872533f17b7a45b43ad55ea5f507391e1a342
=======
     "end_time": "2022-01-17T20:08:17.901635Z",
     "start_time": "2022-01-17T20:08:17.898004Z"
>>>>>>> fff872533f17b7a45b43ad55ea5f507391e1a342
>>>>>>> main
    }
   },
   "outputs": [],
   "source": [
    "train = tfds.as_numpy(train)\n",
    "test = tfds.as_numpy(test)"
   ]
  },
  {
   "cell_type": "code",
<<<<<<< HEAD
   "execution_count": 13,
   "id": "ce9ad910",
   "metadata": {
    "ExecuteTime": {
     "end_time": "2022-01-31T12:33:06.609275Z",
     "start_time": "2022-01-31T12:31:35.690216Z"
=======
<<<<<<< HEAD
<<<<<<< HEAD
   "execution_count": 13,
   "id": "ce9ad910",
   "metadata": {
    "ExecuteTime": {
     "end_time": "2022-01-31T12:33:06.609275Z",
     "start_time": "2022-01-31T12:31:35.690216Z"
=======
=======
>>>>>>> fff872533f17b7a45b43ad55ea5f507391e1a342
   "execution_count": 5,
   "id": "ce9ad910",
   "metadata": {
    "ExecuteTime": {
     "end_time": "2022-01-17T20:08:21.544514Z",
     "start_time": "2022-01-17T20:08:17.903192Z"
<<<<<<< HEAD
>>>>>>> fff872533f17b7a45b43ad55ea5f507391e1a342
=======
>>>>>>> fff872533f17b7a45b43ad55ea5f507391e1a342
>>>>>>> main
    }
   },
   "outputs": [],
   "source": [
    "X_train, y_train = bm.tf_to_pd_dataframe(train)\n",
    "X_test, y_test = bm.tf_to_pd_dataframe(test)"
   ]
  },
  {
   "cell_type": "markdown",
   "id": "24dc1098",
   "metadata": {
    "ExecuteTime": {
     "end_time": "2022-01-17T19:30:31.644783Z",
     "start_time": "2022-01-17T19:30:31.642162Z"
    }
   },
   "source": [
    "### Let's check if the data is balanced"
   ]
  },
  {
   "cell_type": "markdown",
   "id": "400c7563",
   "metadata": {},
   "source": [
    "**TRAIN SET**"
   ]
  },
  {
   "cell_type": "code",
<<<<<<< HEAD
   "execution_count": 14,
   "id": "4d6e783d",
   "metadata": {
    "ExecuteTime": {
     "end_time": "2022-01-31T12:33:06.623870Z",
     "start_time": "2022-01-31T12:33:06.612029Z"
=======
<<<<<<< HEAD
<<<<<<< HEAD
   "execution_count": 14,
   "id": "4d6e783d",
   "metadata": {
    "ExecuteTime": {
     "end_time": "2022-01-31T12:33:06.623870Z",
     "start_time": "2022-01-31T12:33:06.612029Z"
=======
=======
>>>>>>> fff872533f17b7a45b43ad55ea5f507391e1a342
   "execution_count": 6,
   "id": "4d6e783d",
   "metadata": {
    "ExecuteTime": {
     "end_time": "2022-01-17T20:08:21.558718Z",
     "start_time": "2022-01-17T20:08:21.549067Z"
<<<<<<< HEAD
>>>>>>> fff872533f17b7a45b43ad55ea5f507391e1a342
=======
>>>>>>> fff872533f17b7a45b43ad55ea5f507391e1a342
>>>>>>> main
    }
   },
   "outputs": [
    {
     "data": {
      "text/plain": [
<<<<<<< HEAD
       "0.0    0.502477\n",
       "1.0    0.497523\n",
       "dtype: float64"
      ]
     },
     "execution_count": 14,
=======
<<<<<<< HEAD
<<<<<<< HEAD
       "0.0    0.502477\n",
       "1.0    0.497523\n",
       "dtype: float64"
      ]
     },
     "execution_count": 14,
=======
=======
>>>>>>> fff872533f17b7a45b43ad55ea5f507391e1a342
       "1.0    0.525\n",
       "0.0    0.475\n",
       "dtype: float64"
      ]
     },
     "execution_count": 6,
<<<<<<< HEAD
>>>>>>> fff872533f17b7a45b43ad55ea5f507391e1a342
=======
>>>>>>> fff872533f17b7a45b43ad55ea5f507391e1a342
>>>>>>> main
     "metadata": {},
     "output_type": "execute_result"
    }
   ],
   "source": [
    "pd.DataFrame(y_train).value_counts() / y_train.shape[0]"
   ]
  },
  {
   "cell_type": "code",
<<<<<<< HEAD
   "execution_count": 15,
   "id": "b6e0bf46",
   "metadata": {
    "ExecuteTime": {
     "end_time": "2022-01-31T12:33:06.738008Z",
     "start_time": "2022-01-31T12:33:06.627501Z"
=======
<<<<<<< HEAD
<<<<<<< HEAD
   "execution_count": 15,
   "id": "b6e0bf46",
   "metadata": {
    "ExecuteTime": {
     "end_time": "2022-01-31T12:33:06.738008Z",
     "start_time": "2022-01-31T12:33:06.627501Z"
=======
=======
>>>>>>> fff872533f17b7a45b43ad55ea5f507391e1a342
   "execution_count": 7,
   "id": "b6e0bf46",
   "metadata": {
    "ExecuteTime": {
     "end_time": "2022-01-17T20:08:21.679768Z",
     "start_time": "2022-01-17T20:08:21.560649Z"
<<<<<<< HEAD
>>>>>>> fff872533f17b7a45b43ad55ea5f507391e1a342
=======
>>>>>>> fff872533f17b7a45b43ad55ea5f507391e1a342
>>>>>>> main
    }
   },
   "outputs": [
    {
     "data": {
<<<<<<< HEAD
      "image/png": "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\n",
=======
<<<<<<< HEAD
<<<<<<< HEAD
      "image/png": "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\n",
=======
      "image/png": "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\n",
>>>>>>> fff872533f17b7a45b43ad55ea5f507391e1a342
=======
      "image/png": "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\n",
>>>>>>> fff872533f17b7a45b43ad55ea5f507391e1a342
>>>>>>> main
      "text/plain": [
       "<Figure size 432x288 with 1 Axes>"
      ]
     },
     "metadata": {
      "needs_background": "light"
     },
     "output_type": "display_data"
    }
   ],
   "source": [
    "sns.countplot(y_train,palette='Blues');"
   ]
  },
  {
   "cell_type": "markdown",
   "id": "e2e5f486",
   "metadata": {},
   "source": [
    "**TEST SET**"
   ]
  },
  {
   "cell_type": "code",
<<<<<<< HEAD
   "execution_count": 16,
   "id": "c034b61c",
   "metadata": {
    "ExecuteTime": {
     "end_time": "2022-01-31T12:33:06.748356Z",
     "start_time": "2022-01-31T12:33:06.740204Z"
=======
<<<<<<< HEAD
<<<<<<< HEAD
   "execution_count": 16,
   "id": "c034b61c",
   "metadata": {
    "ExecuteTime": {
     "end_time": "2022-01-31T12:33:06.748356Z",
     "start_time": "2022-01-31T12:33:06.740204Z"
=======
=======
>>>>>>> fff872533f17b7a45b43ad55ea5f507391e1a342
   "execution_count": 8,
   "id": "c034b61c",
   "metadata": {
    "ExecuteTime": {
     "end_time": "2022-01-17T20:08:21.690806Z",
     "start_time": "2022-01-17T20:08:21.681709Z"
<<<<<<< HEAD
>>>>>>> fff872533f17b7a45b43ad55ea5f507391e1a342
=======
>>>>>>> fff872533f17b7a45b43ad55ea5f507391e1a342
>>>>>>> main
    }
   },
   "outputs": [
    {
     "data": {
      "text/plain": [
<<<<<<< HEAD
       "1.0    0.507709\n",
       "0.0    0.492291\n",
       "dtype: float64"
      ]
     },
     "execution_count": 16,
=======
<<<<<<< HEAD
<<<<<<< HEAD
       "1.0    0.507709\n",
       "0.0    0.492291\n",
       "dtype: float64"
      ]
     },
     "execution_count": 16,
=======
=======
>>>>>>> fff872533f17b7a45b43ad55ea5f507391e1a342
       "1.0    0.55\n",
       "0.0    0.45\n",
       "dtype: float64"
      ]
     },
     "execution_count": 8,
<<<<<<< HEAD
>>>>>>> fff872533f17b7a45b43ad55ea5f507391e1a342
=======
>>>>>>> fff872533f17b7a45b43ad55ea5f507391e1a342
>>>>>>> main
     "metadata": {},
     "output_type": "execute_result"
    }
   ],
   "source": [
    "pd.DataFrame(y_test).value_counts() / y_test.shape[0]"
   ]
  },
  {
   "cell_type": "code",
<<<<<<< HEAD
   "execution_count": 17,
   "id": "f31be1c3",
   "metadata": {
    "ExecuteTime": {
     "end_time": "2022-01-31T12:33:06.826632Z",
     "start_time": "2022-01-31T12:33:06.751176Z"
=======
<<<<<<< HEAD
<<<<<<< HEAD
   "execution_count": 17,
   "id": "f31be1c3",
   "metadata": {
    "ExecuteTime": {
     "end_time": "2022-01-31T12:33:06.826632Z",
     "start_time": "2022-01-31T12:33:06.751176Z"
=======
=======
>>>>>>> fff872533f17b7a45b43ad55ea5f507391e1a342
   "execution_count": 9,
   "id": "f31be1c3",
   "metadata": {
    "ExecuteTime": {
     "end_time": "2022-01-17T20:08:21.793811Z",
     "start_time": "2022-01-17T20:08:21.692768Z"
<<<<<<< HEAD
>>>>>>> fff872533f17b7a45b43ad55ea5f507391e1a342
=======
>>>>>>> fff872533f17b7a45b43ad55ea5f507391e1a342
>>>>>>> main
    }
   },
   "outputs": [
    {
     "data": {
<<<<<<< HEAD
      "image/png": "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\n",
=======
<<<<<<< HEAD
<<<<<<< HEAD
      "image/png": "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\n",
=======
      "image/png": "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\n",
>>>>>>> fff872533f17b7a45b43ad55ea5f507391e1a342
=======
      "image/png": "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\n",
>>>>>>> fff872533f17b7a45b43ad55ea5f507391e1a342
>>>>>>> main
      "text/plain": [
       "<Figure size 432x288 with 1 Axes>"
      ]
     },
     "metadata": {
      "needs_background": "light"
     },
     "output_type": "display_data"
    }
   ],
   "source": [
    "sns.countplot(y_test,palette='Blues');"
   ]
  },
  {
   "cell_type": "markdown",
   "id": "00583fea",
   "metadata": {},
   "source": [
<<<<<<< HEAD
    "The data is balanced, if we do a baseline model where all the samples are predicted as 1,the accuracy would be around 50%. "
=======
<<<<<<< HEAD
<<<<<<< HEAD
    "The data is balanced, if we do a baseline model where all the samples are predicted as 1,the accuracy would be around 50%. "
=======
    "The data is balanced, if we do a baseline model where all the samples are predicted as 1,the accuracy would be 55%. "
>>>>>>> fff872533f17b7a45b43ad55ea5f507391e1a342
=======
    "The data is balanced, if we do a baseline model where all the samples are predicted as 1,the accuracy would be 55%. "
>>>>>>> fff872533f17b7a45b43ad55ea5f507391e1a342
>>>>>>> main
   ]
  },
  {
   "cell_type": "markdown",
   "id": "581bf4f0",
   "metadata": {},
   "source": [
    "## BASELINE MODEL"
   ]
  },
  {
   "cell_type": "code",
<<<<<<< HEAD
   "execution_count": 18,
   "id": "60a3b094",
   "metadata": {
    "ExecuteTime": {
     "end_time": "2022-01-31T12:33:08.899017Z",
     "start_time": "2022-01-31T12:33:06.830016Z"
=======
<<<<<<< HEAD
<<<<<<< HEAD
   "execution_count": 18,
   "id": "60a3b094",
   "metadata": {
    "ExecuteTime": {
     "end_time": "2022-01-31T12:33:08.899017Z",
     "start_time": "2022-01-31T12:33:06.830016Z"
=======
=======
>>>>>>> fff872533f17b7a45b43ad55ea5f507391e1a342
   "execution_count": 10,
   "id": "60a3b094",
   "metadata": {
    "ExecuteTime": {
     "end_time": "2022-01-17T20:08:22.095574Z",
     "start_time": "2022-01-17T20:08:21.796789Z"
<<<<<<< HEAD
>>>>>>> fff872533f17b7a45b43ad55ea5f507391e1a342
=======
>>>>>>> fff872533f17b7a45b43ad55ea5f507391e1a342
>>>>>>> main
    }
   },
   "outputs": [],
   "source": [
    "clf = GaussianNB()\n",
    "clf.fit(X_train, y_train)\n",
    "y_pred = clf.predict(X_test)"
   ]
  },
  {
   "cell_type": "code",
<<<<<<< HEAD
   "execution_count": 19,
   "id": "0f52338a",
   "metadata": {
    "ExecuteTime": {
     "end_time": "2022-01-31T12:33:08.906315Z",
     "start_time": "2022-01-31T12:33:08.901155Z"
=======
<<<<<<< HEAD
<<<<<<< HEAD
   "execution_count": 19,
   "id": "0f52338a",
   "metadata": {
    "ExecuteTime": {
     "end_time": "2022-01-31T12:33:08.906315Z",
     "start_time": "2022-01-31T12:33:08.901155Z"
=======
=======
>>>>>>> fff872533f17b7a45b43ad55ea5f507391e1a342
   "execution_count": 11,
   "id": "0f52338a",
   "metadata": {
    "ExecuteTime": {
     "end_time": "2022-01-17T20:08:22.101730Z",
     "start_time": "2022-01-17T20:08:22.097385Z"
<<<<<<< HEAD
>>>>>>> fff872533f17b7a45b43ad55ea5f507391e1a342
=======
>>>>>>> fff872533f17b7a45b43ad55ea5f507391e1a342
>>>>>>> main
    }
   },
   "outputs": [
    {
     "data": {
      "text/plain": [
<<<<<<< HEAD
       "0.51431718061674"
      ]
     },
     "execution_count": 19,
=======
<<<<<<< HEAD
<<<<<<< HEAD
       "0.51431718061674"
      ]
     },
     "execution_count": 19,
=======
=======
>>>>>>> fff872533f17b7a45b43ad55ea5f507391e1a342
       "0.95"
      ]
     },
     "execution_count": 11,
<<<<<<< HEAD
>>>>>>> fff872533f17b7a45b43ad55ea5f507391e1a342
=======
>>>>>>> fff872533f17b7a45b43ad55ea5f507391e1a342
>>>>>>> main
     "metadata": {},
     "output_type": "execute_result"
    }
   ],
   "source": [
    "accuracy_score(y_test,y_pred)"
   ]
  },
  {
   "cell_type": "markdown",
   "id": "f3232b1a",
   "metadata": {},
   "source": [
<<<<<<< HEAD
    "The accuracy is really bad - it's the same as saying that the images are always the same or that they are always different."
=======
<<<<<<< HEAD
<<<<<<< HEAD
    "The accuracy is really bad - it's the same as saying that the images are always the same or that they are always different."
=======
    "The accuracy is really good - way better than the random guess"
>>>>>>> fff872533f17b7a45b43ad55ea5f507391e1a342
=======
    "The accuracy is really good - way better than the random guess"
>>>>>>> fff872533f17b7a45b43ad55ea5f507391e1a342
>>>>>>> main
   ]
  },
  {
   "cell_type": "code",
   "execution_count": null,
   "id": "8cc47b59",
   "metadata": {},
   "outputs": [],
   "source": []
<<<<<<< HEAD
=======
<<<<<<< HEAD
<<<<<<< HEAD
>>>>>>> main
  },
  {
   "cell_type": "code",
   "execution_count": null,
   "id": "63996df8",
   "metadata": {},
   "outputs": [],
   "source": []
<<<<<<< HEAD
=======
=======
>>>>>>> fff872533f17b7a45b43ad55ea5f507391e1a342
=======
>>>>>>> fff872533f17b7a45b43ad55ea5f507391e1a342
>>>>>>> main
  }
 ],
 "metadata": {
  "kernelspec": {
   "display_name": "Python 3 (ipykernel)",
   "language": "python",
   "name": "python3"
  },
  "language_info": {
   "codemirror_mode": {
    "name": "ipython",
    "version": 3
   },
   "file_extension": ".py",
   "mimetype": "text/x-python",
   "name": "python",
   "nbconvert_exporter": "python",
   "pygments_lexer": "ipython3",
   "version": "3.8.12"
  },
  "toc": {
   "base_numbering": 1,
   "nav_menu": {},
   "number_sections": true,
   "sideBar": true,
   "skip_h1_title": false,
   "title_cell": "Table of Contents",
   "title_sidebar": "Contents",
   "toc_cell": false,
   "toc_position": {},
   "toc_section_display": true,
   "toc_window_display": false
  }
 },
 "nbformat": 4,
 "nbformat_minor": 5
}
