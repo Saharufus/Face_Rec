{
 "cells": [
  {
   "cell_type": "code",
   "execution_count": 1,
   "id": "c628a701",
   "metadata": {
    "ExecuteTime": {
     "end_time": "2022-01-17T19:18:07.673189Z",
     "start_time": "2022-01-17T19:18:07.669855Z"
    }
   },
   "outputs": [],
   "source": [
    "ANCHOR_CONST = 0\n",
    "POSITIVE_CONST = 1\n",
    "LABEL_CONST = 2"
   ]
  },
  {
   "cell_type": "code",
   "execution_count": 50,
   "id": "114f684d",
   "metadata": {
    "ExecuteTime": {
     "end_time": "2022-01-17T19:31:30.499595Z",
     "start_time": "2022-01-17T19:31:30.496238Z"
    }
   },
   "outputs": [],
   "source": [
    "import preprocessing as pp\n",
    "import pandas as pd\n",
    "import tensorflow as tf\n",
    "import os\n",
    "import numpy as np\n",
    "import tensorflow_datasets as tfds\n",
    "from sklearn.naive_bayes import BernoulliNB\n",
    "from sklearn.metrics import accuracy_score\n",
    "import seaborn as sns\n",
    "import warnings\n",
    "warnings.filterwarnings('ignore')"
   ]
  },
  {
   "cell_type": "code",
   "execution_count": 7,
   "id": "a7fcf1ef",
   "metadata": {
    "ExecuteTime": {
     "end_time": "2022-01-17T19:18:13.495372Z",
     "start_time": "2022-01-17T19:18:13.491991Z"
    }
   },
   "outputs": [],
   "source": [
    "ANC_PATH = \"/Users/julietastaryfurmanshalom/OneDrive/ITC/Face_Rec/data/anchor\"\n",
    "POS_PATH = \"/Users/julietastaryfurmanshalom/OneDrive/ITC/Face_Rec/data/positive\"\n",
    "NEG_PATH = \"/Users/julietastaryfurmanshalom/OneDrive/ITC/Face_Rec/data/negative\""
   ]
  },
  {
   "cell_type": "code",
   "execution_count": 8,
   "id": "57d20b59",
   "metadata": {
    "ExecuteTime": {
     "end_time": "2022-01-17T19:18:13.621436Z",
     "start_time": "2022-01-17T19:18:13.498634Z"
    }
   },
   "outputs": [
    {
     "name": "stderr",
     "output_type": "stream",
     "text": [
      "2022-01-17 20:18:13.501403: I tensorflow/core/platform/cpu_feature_guard.cc:151] This TensorFlow binary is optimized with oneAPI Deep Neural Network Library (oneDNN) to use the following CPU instructions in performance-critical operations:  AVX2 AVX512F FMA\n",
      "To enable them in other operations, rebuild TensorFlow with the appropriate compiler flags.\n"
     ]
    }
   ],
   "source": [
    "anchor = tf.data.Dataset.list_files(os.path.join(ANC_PATH, '*.jpg')).take(100)\n",
    "positive = tf.data.Dataset.list_files(os.path.join(POS_PATH, '*.jpg')).take(100)\n",
    "negative = tf.data.Dataset.list_files(os.path.join(NEG_PATH, '*.jpg')).take(100)"
   ]
  },
  {
   "cell_type": "code",
   "execution_count": 9,
   "id": "52d157ff",
   "metadata": {
    "ExecuteTime": {
     "end_time": "2022-01-17T19:18:13.735636Z",
     "start_time": "2022-01-17T19:18:13.623285Z"
    }
   },
   "outputs": [],
   "source": [
    "data = pp.create_dataset(anchor, positive, negative)\n",
    "train, test = pp.split_train_test(data, 0.8, batch_size=1)"
   ]
  },
  {
   "cell_type": "code",
   "execution_count": 10,
   "id": "14fa424a",
   "metadata": {
    "ExecuteTime": {
     "end_time": "2022-01-17T19:18:13.741989Z",
     "start_time": "2022-01-17T19:18:13.737842Z"
    }
   },
   "outputs": [],
   "source": [
    "train = tfds.as_numpy(train)\n",
    "test = tfds.as_numpy(test)"
   ]
  },
  {
   "cell_type": "code",
   "execution_count": 11,
   "id": "46e9559a",
   "metadata": {
    "ExecuteTime": {
     "end_time": "2022-01-17T19:18:13.748247Z",
     "start_time": "2022-01-17T19:18:13.743551Z"
    }
   },
   "outputs": [],
   "source": [
    "def flatten_rows(column):\n",
    "    \"\"\"\n",
    "    This function flattens and deletes the color channel of each sample.\n",
    "    :param column: column to process\n",
    "    :return: column processed as a list\n",
    "    \"\"\"\n",
    "    result = []\n",
    "    for element in column:\n",
    "        flat = element[0].flatten()\n",
    "        aux_list = []\n",
    "        for i,f in enumerate(flat):\n",
    "            if i%3 == 0:\n",
    "                aux_list.append(f)\n",
    "        result.append(aux_list)\n",
    "    return result"
   ]
  },
  {
   "cell_type": "code",
   "execution_count": 20,
   "id": "849d3268",
   "metadata": {
    "ExecuteTime": {
     "end_time": "2022-01-17T19:19:21.435973Z",
     "start_time": "2022-01-17T19:19:21.431208Z"
    }
   },
   "outputs": [],
   "source": [
    "def tf_to_pd_dataframe(df):\n",
    "    \"\"\"\n",
    "    This function flattens and deletes the color channel of each sample.\n",
    "    :param column: column to process\n",
    "    :return: column processed as a list\n",
    "    \"\"\"\n",
    "        \n",
    "    # first we create an auxiliar list with all the information from the tf dataset\n",
    "    aux_list = []\n",
    "    for i,element in enumerate(df):\n",
    "        aux_list.append(element)\n",
    "    \n",
    "    # We separate the data between anchor, positive and label\n",
    "    anchor_column = []\n",
    "    positive_column = []\n",
    "    label_column = []\n",
    "    for element in aux_list:\n",
    "        anchor_column.append(element[ANCHOR_CONST])\n",
    "        positive_column.append(element[POSITIVE_CONST])\n",
    "        label_column.append(element[LABEL_CONST])\n",
    "        \n",
    "    # We create the label dataset\n",
    "    y = np.array(label_column).flatten()\n",
    "    \n",
    "    # We create the X dataset\n",
    "    # First, we create the rows with the positive values and anchor values\n",
    "    positive_rows = flatten_rows(positive_column) \n",
    "    anchor_rows = flatten_rows(anchor_column) \n",
    "    \n",
    "    # Now we merge them\n",
    "    final_row = []\n",
    "    for a,p in zip(anchor_rows,positive_rows):\n",
    "        final_row.append(a+p)\n",
    "        \n",
    "    X_train = pd.DataFrame(final_row)\n",
    "    \n",
    "    return(X_train,y)"
   ]
  },
  {
   "cell_type": "code",
   "execution_count": 21,
   "id": "c610f3f1",
   "metadata": {
    "ExecuteTime": {
     "end_time": "2022-01-17T19:19:25.600068Z",
     "start_time": "2022-01-17T19:19:22.089144Z"
    }
   },
   "outputs": [],
   "source": [
    "X_train, y_train = tf_to_pd_dataframe(train)\n",
    "X_test, y_test = tf_to_pd_dataframe(test)"
   ]
  },
  {
   "cell_type": "markdown",
   "id": "4073aafd",
   "metadata": {
    "ExecuteTime": {
     "end_time": "2022-01-17T19:30:31.644783Z",
     "start_time": "2022-01-17T19:30:31.642162Z"
    }
   },
   "source": [
    "### Let's check if the data is balanced"
   ]
  },
  {
   "cell_type": "markdown",
   "id": "b4be2d30",
   "metadata": {},
   "source": [
    "**TRAIN SET**"
   ]
  },
  {
   "cell_type": "code",
   "execution_count": 43,
   "id": "af3d7cb9",
   "metadata": {
    "ExecuteTime": {
     "end_time": "2022-01-17T19:29:58.356827Z",
     "start_time": "2022-01-17T19:29:58.349509Z"
    }
   },
   "outputs": [
    {
     "data": {
      "text/plain": [
       "1.0    0.51875\n",
       "0.0    0.48125\n",
       "dtype: float64"
      ]
     },
     "execution_count": 43,
     "metadata": {},
     "output_type": "execute_result"
    }
   ],
   "source": [
    "pd.DataFrame(y_train).value_counts() / y_train.shape[0]"
   ]
  },
  {
   "cell_type": "code",
   "execution_count": 51,
   "id": "74847a6d",
   "metadata": {
    "ExecuteTime": {
     "end_time": "2022-01-17T19:31:38.069151Z",
     "start_time": "2022-01-17T19:31:37.962298Z"
    }
   },
   "outputs": [
    {
     "data": {
      "image/png": "[encoded data removed]",
      "text/plain": [
       "<Figure size 432x288 with 1 Axes>"
      ]
     },
     "metadata": {
      "needs_background": "light"
     },
     "output_type": "display_data"
    }
   ],
   "source": [
    "sns.countplot(y_train,palette='Blues');"
   ]
  },
  {
   "cell_type": "markdown",
   "id": "291ac61d",
   "metadata": {},
   "source": [
    "**TEST SET**"
   ]
  },
  {
   "cell_type": "code",
   "execution_count": 53,
   "id": "6460c669",
   "metadata": {
    "ExecuteTime": {
     "end_time": "2022-01-17T19:31:53.749725Z",
     "start_time": "2022-01-17T19:31:53.742358Z"
    }
   },
   "outputs": [
    {
     "data": {
      "text/plain": [
       "1.0    0.55\n",
       "0.0    0.45\n",
       "dtype: float64"
      ]
     },
     "execution_count": 53,
     "metadata": {},
     "output_type": "execute_result"
    }
   ],
   "source": [
    "pd.DataFrame(y_test).value_counts() / y_test.shape[0]"
   ]
  },
  {
   "cell_type": "code",
   "execution_count": 54,
   "id": "adbd1eb3",
   "metadata": {
    "ExecuteTime": {
     "end_time": "2022-01-17T19:32:04.249329Z",
     "start_time": "2022-01-17T19:32:04.155544Z"
    }
   },
   "outputs": [
    {
     "data": {
      "image/png": "[encoded data removed]",
      "text/plain": [
       "<Figure size 432x288 with 1 Axes>"
      ]
     },
     "metadata": {
      "needs_background": "light"
     },
     "output_type": "display_data"
    }
   ],
   "source": [
    "sns.countplot(y_test,palette='Blues');"
   ]
  },
  {
   "cell_type": "markdown",
   "id": "0cd90747",
   "metadata": {},
   "source": [
    "The data is balanced, if we do a baseline model where all the samples are predicted as 1,the accuracy would be 55%. "
   ]
  },
  {
   "cell_type": "markdown",
   "id": "27cea179",
   "metadata": {},
   "source": [
    "## BASELINE MODEL"
   ]
  },
  {
   "cell_type": "code",
   "execution_count": 55,
   "id": "16d68aa7",
   "metadata": {
    "ExecuteTime": {
     "end_time": "2022-01-17T19:33:38.064252Z",
     "start_time": "2022-01-17T19:33:37.602526Z"
    }
   },
   "outputs": [],
   "source": [
    "clf = BernoulliNB(binarize=0)\n",
    "clf.fit(X_train, y_train)\n",
    "y_pred = clf.predict(X_test)"
   ]
  },
  {
   "cell_type": "code",
   "execution_count": 56,
   "id": "4c5c9df6",
   "metadata": {
    "ExecuteTime": {
     "end_time": "2022-01-17T19:33:38.074064Z",
     "start_time": "2022-01-17T19:33:38.066583Z"
    }
   },
   "outputs": [
    {
     "data": {
      "text/plain": [
       "0.7"
      ]
     },
     "execution_count": 56,
     "metadata": {},
     "output_type": "execute_result"
    }
   ],
   "source": [
    "accuracy_score(y_test,y_pred)"
   ]
  },
  {
   "cell_type": "markdown",
   "id": "95363df8",
   "metadata": {},
   "source": [
    "The accuracy is better than the random guess"
   ]
  },
  {
   "cell_type": "code",
   "execution_count": null,
   "id": "86bb5c2b",
   "metadata": {},
   "outputs": [],
   "source": []
  }
 ],
 "metadata": {
  "kernelspec": {
   "display_name": "Python 3 (ipykernel)",
   "language": "python",
   "name": "python3"
  },
  "language_info": {
   "codemirror_mode": {
    "name": "ipython",
    "version": 3
   },
   "file_extension": ".py",
   "mimetype": "text/x-python",
   "name": "python",
   "nbconvert_exporter": "python",
   "pygments_lexer": "ipython3",
   "version": "3.8.12"
  },
  "toc": {
   "base_numbering": 1,
   "nav_menu": {},
   "number_sections": true,
   "sideBar": true,
   "skip_h1_title": false,
   "title_cell": "Table of Contents",
   "title_sidebar": "Contents",
   "toc_cell": false,
   "toc_position": {},
   "toc_section_display": true,
   "toc_window_display": false
  }
 },
 "nbformat": 4,
 "nbformat_minor": 5
}
