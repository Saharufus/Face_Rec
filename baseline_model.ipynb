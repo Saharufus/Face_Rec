{
 "cells": [
  {
   "cell_type": "markdown",
   "id": "ff55ae31",
   "metadata": {},
   "source": [
    "# BASELINE MODEL"
   ]
  },
  {
   "cell_type": "code",
   "execution_count": 1,
   "id": "9d2c96c9",
   "metadata": {
    "ExecuteTime": {
     "end_time": "2022-01-17T19:43:46.076704Z",
     "start_time": "2022-01-17T19:43:41.438693Z"
    }
   },
   "outputs": [],
   "source": [
    "import preprocessing as pp\n",
    "import conf as c\n",
    "import baseline_model as bm\n",
    "import pandas as pd\n",
    "import tensorflow as tf\n",
    "import os\n",
    "import numpy as np\n",
    "import tensorflow_datasets as tfds\n",
    "from sklearn.naive_bayes import BernoulliNB\n",
    "from sklearn.metrics import accuracy_score\n",
    "import seaborn as sns\n",
    "import warnings\n",
    "warnings.filterwarnings('ignore')"
   ]
  },
  {
   "cell_type": "markdown",
   "id": "83e120fa",
   "metadata": {},
   "source": [
    "### We create a tensorflow dataset with the data from the different folders"
   ]
  },
  {
   "cell_type": "code",
   "execution_count": 2,
   "id": "d224a1a4",
   "metadata": {
    "ExecuteTime": {
     "end_time": "2022-01-17T19:43:46.163562Z",
     "start_time": "2022-01-17T19:43:46.078487Z"
    }
   },
   "outputs": [
    {
     "name": "stderr",
     "output_type": "stream",
     "text": [
      "2022-01-17 20:43:46.080695: I tensorflow/core/platform/cpu_feature_guard.cc:151] This TensorFlow binary is optimized with oneAPI Deep Neural Network Library (oneDNN) to use the following CPU instructions in performance-critical operations:  AVX2 FMA\n",
      "To enable them in other operations, rebuild TensorFlow with the appropriate compiler flags.\n"
     ]
    }
   ],
   "source": [
    "anchor = tf.data.Dataset.list_files(os.path.join(c.ANC_PATH, '*.jpg')).take(100)\n",
    "positive = tf.data.Dataset.list_files(os.path.join(c.POS_PATH, '*.jpg')).take(100)\n",
    "negative = tf.data.Dataset.list_files(os.path.join(c.NEG_PATH, '*.jpg')).take(100);"
   ]
  },
  {
   "cell_type": "code",
   "execution_count": 3,
   "id": "f2c25857",
   "metadata": {
    "ExecuteTime": {
     "end_time": "2022-01-17T19:43:46.270127Z",
     "start_time": "2022-01-17T19:43:46.167670Z"
    }
   },
   "outputs": [],
   "source": [
    "data = pp.create_dataset(anchor, positive, negative)\n",
    "train, test = pp.split_train_test(data, 0.8, batch_size=1)"
   ]
  },
  {
   "cell_type": "code",
   "execution_count": null,
   "id": "8afa834c",
   "metadata": {},
   "outputs": [],
   "source": [
    "We transf"
   ]
  },
  {
   "cell_type": "code",
   "execution_count": 4,
   "id": "b5f91ad0",
   "metadata": {
    "ExecuteTime": {
     "end_time": "2022-01-17T19:43:46.277148Z",
     "start_time": "2022-01-17T19:43:46.272429Z"
    }
   },
   "outputs": [],
   "source": [
    "train = tfds.as_numpy(train)\n",
    "test = tfds.as_numpy(test)"
   ]
  },
  {
   "cell_type": "code",
   "execution_count": 5,
   "id": "3cbba73b",
   "metadata": {
    "ExecuteTime": {
     "end_time": "2022-01-17T19:43:50.064772Z",
     "start_time": "2022-01-17T19:43:46.279108Z"
    }
   },
   "outputs": [],
   "source": [
    "X_train, y_train = bm.tf_to_pd_dataframe(train)\n",
    "X_test, y_test = bm.tf_to_pd_dataframe(test)"
   ]
  },
  {
   "cell_type": "markdown",
   "id": "8a831fa9",
   "metadata": {
    "ExecuteTime": {
     "end_time": "2022-01-17T19:30:31.644783Z",
     "start_time": "2022-01-17T19:30:31.642162Z"
    }
   },
   "source": [
    "### Let's check if the data is balanced"
   ]
  },
  {
   "cell_type": "markdown",
   "id": "c9b88f0b",
   "metadata": {},
   "source": [
    "**TRAIN SET**"
   ]
  },
  {
   "cell_type": "code",
   "execution_count": 6,
   "id": "ec880ca5",
   "metadata": {
    "ExecuteTime": {
     "end_time": "2022-01-17T19:43:50.077093Z",
     "start_time": "2022-01-17T19:43:50.066510Z"
    }
   },
   "outputs": [
    {
     "data": {
      "text/plain": [
       "0.0    0.5125\n",
       "1.0    0.4875\n",
       "dtype: float64"
      ]
     },
     "execution_count": 6,
     "metadata": {},
     "output_type": "execute_result"
    }
   ],
   "source": [
    "pd.DataFrame(y_train).value_counts() / y_train.shape[0]"
   ]
  },
  {
   "cell_type": "code",
   "execution_count": 7,
   "id": "e3b75392",
   "metadata": {
    "ExecuteTime": {
     "end_time": "2022-01-17T19:43:50.180947Z",
     "start_time": "2022-01-17T19:43:50.079814Z"
    }
   },
   "outputs": [
    {
     "data": {
      "image/png": "[encoded data removed]",
      "text/plain": [
       "<Figure size 432x288 with 1 Axes>"
      ]
     },
     "metadata": {
      "needs_background": "light"
     },
     "output_type": "display_data"
    }
   ],
   "source": [
    "sns.countplot(y_train,palette='Blues');"
   ]
  },
  {
   "cell_type": "markdown",
   "id": "94dddfef",
   "metadata": {},
   "source": [
    "**TEST SET**"
   ]
  },
  {
   "cell_type": "code",
   "execution_count": 8,
   "id": "241950d4",
   "metadata": {
    "ExecuteTime": {
     "end_time": "2022-01-17T19:43:50.193456Z",
     "start_time": "2022-01-17T19:43:50.182962Z"
    }
   },
   "outputs": [
    {
     "data": {
      "text/plain": [
       "0.0    0.525\n",
       "1.0    0.475\n",
       "dtype: float64"
      ]
     },
     "execution_count": 8,
     "metadata": {},
     "output_type": "execute_result"
    }
   ],
   "source": [
    "pd.DataFrame(y_test).value_counts() / y_test.shape[0]"
   ]
  },
  {
   "cell_type": "code",
   "execution_count": 9,
   "id": "2af677a2",
   "metadata": {
    "ExecuteTime": {
     "end_time": "2022-01-17T19:43:50.294325Z",
     "start_time": "2022-01-17T19:43:50.195919Z"
    }
   },
   "outputs": [
    {
     "data": {
      "image/png": "[encoded data removed]",
      "text/plain": [
       "<Figure size 432x288 with 1 Axes>"
      ]
     },
     "metadata": {
      "needs_background": "light"
     },
     "output_type": "display_data"
    }
   ],
   "source": [
    "sns.countplot(y_test,palette='Blues');"
   ]
  },
  {
   "cell_type": "markdown",
   "id": "350ff346",
   "metadata": {},
   "source": [
    "The data is balanced, if we do a baseline model where all the samples are predicted as 1,the accuracy would be 55%. "
   ]
  },
  {
   "cell_type": "markdown",
   "id": "7d58a21b",
   "metadata": {},
   "source": [
    "## BASELINE MODEL"
   ]
  },
  {
   "cell_type": "code",
   "execution_count": 10,
   "id": "f9add599",
   "metadata": {
    "ExecuteTime": {
     "end_time": "2022-01-17T19:43:50.610615Z",
     "start_time": "2022-01-17T19:43:50.296636Z"
    }
   },
   "outputs": [],
   "source": [
    "clf = BernoulliNB(binarize=0)\n",
    "clf.fit(X_train, y_train)\n",
    "y_pred = clf.predict(X_test)"
   ]
  },
  {
   "cell_type": "code",
   "execution_count": 11,
   "id": "5e31eae2",
   "metadata": {
    "ExecuteTime": {
     "end_time": "2022-01-17T19:43:50.617919Z",
     "start_time": "2022-01-17T19:43:50.612485Z"
    }
   },
   "outputs": [
    {
     "data": {
      "text/plain": [
       "0.75"
      ]
     },
     "execution_count": 11,
     "metadata": {},
     "output_type": "execute_result"
    }
   ],
   "source": [
    "accuracy_score(y_test,y_pred)"
   ]
  },
  {
   "cell_type": "markdown",
   "id": "fdc10112",
   "metadata": {},
   "source": [
    "The accuracy is better than the random guess"
   ]
  },
  {
   "cell_type": "code",
   "execution_count": null,
   "id": "16f90605",
   "metadata": {},
   "outputs": [],
   "source": []
  }
 ],
 "metadata": {
  "kernelspec": {
   "display_name": "Python 3 (ipykernel)",
   "language": "python",
   "name": "python3"
  },
  "language_info": {
   "codemirror_mode": {
    "name": "ipython",
    "version": 3
   },
   "file_extension": ".py",
   "mimetype": "text/x-python",
   "name": "python",
   "nbconvert_exporter": "python",
   "pygments_lexer": "ipython3",
   "version": "3.8.12"
  },
  "toc": {
   "base_numbering": 1,
   "nav_menu": {},
   "number_sections": true,
   "sideBar": true,
   "skip_h1_title": false,
   "title_cell": "Table of Contents",
   "title_sidebar": "Contents",
   "toc_cell": false,
   "toc_position": {},
   "toc_section_display": true,
   "toc_window_display": false
  }
 },
 "nbformat": 4,
 "nbformat_minor": 5
}
