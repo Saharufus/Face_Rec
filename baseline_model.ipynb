{
 "cells": [
  {
   "cell_type": "markdown",
   "id": "27ace5d2",
   "metadata": {},
   "source": [
    "# BASELINE MODEL"
   ]
  },
  {
   "cell_type": "code",
   "execution_count": 12,
   "id": "7d87c974",
   "metadata": {
    "ExecuteTime": {
     "end_time": "2022-01-31T12:31:35.687911Z",
     "start_time": "2022-01-31T12:31:35.683287Z"
    }
   },
   "outputs": [],
   "source": [
    "import preprocessing as pp\n",
    "import conf as c\n",
    "import baseline_model as bm\n",
    "import pandas as pd\n",
    "import tensorflow as tf\n",
    "import os\n",
    "import numpy as np\n",
    "import tensorflow_datasets as tfds\n",
    "from sklearn.naive_bayes import GaussianNB\n",
    "from sklearn.metrics import accuracy_score\n",
    "import seaborn as sns\n",
    "import warnings\n",
    "warnings.filterwarnings('ignore')"
   ]
  },
  {
   "cell_type": "markdown",
   "id": "5bc0e2de",
   "metadata": {},
   "source": [
    "### We create a tensorflow dataset with the data from the different folders"
   ]
  },
  {
   "cell_type": "code",
   "execution_count": 2,
   "id": "4c86650f",
   "metadata": {
    "ExecuteTime": {
     "end_time": "2022-01-31T12:29:41.968432Z",
     "start_time": "2022-01-31T12:29:41.840870Z"
    }
   },
   "outputs": [
    {
     "name": "stderr",
     "output_type": "stream",
     "text": [
      "2022-01-31 14:29:41.843949: I tensorflow/core/platform/cpu_feature_guard.cc:151] This TensorFlow binary is optimized with oneAPI Deep Neural Network Library (oneDNN) to use the following CPU instructions in performance-critical operations:  AVX2 FMA\n",
      "To enable them in other operations, rebuild TensorFlow with the appropriate compiler flags.\n"
     ]
    }
   ],
   "source": [
    "anchor = tf.data.Dataset.list_files(os.path.join(c.ANC_PATH, '*.jpg')).take(2271)\n",
    "positive = tf.data.Dataset.list_files(os.path.join(c.POS_PATH, '*.jpg')).take(2271)\n",
    "negative = tf.data.Dataset.list_files(os.path.join(c.NEG_PATH_CLEANED, '*.jpg')).take(2271);"
   ]
  },
  {
   "cell_type": "code",
   "execution_count": 3,
   "id": "e192d9ac",
   "metadata": {
    "ExecuteTime": {
     "end_time": "2022-01-31T12:29:42.097447Z",
     "start_time": "2022-01-31T12:29:41.971927Z"
    }
   },
   "outputs": [],
   "source": [
    "data = pp.create_dataset(anchor, positive, negative)\n",
    "train, test = pp.split_train_test(data, 0.8, batch_size=1)"
   ]
  },
  {
   "cell_type": "markdown",
   "id": "914eb93f",
   "metadata": {},
   "source": [
    "### We transform the TF dataframe to a pandas dataframe"
   ]
  },
  {
   "cell_type": "code",
   "execution_count": 4,
   "id": "650a3d04",
   "metadata": {
    "ExecuteTime": {
     "end_time": "2022-01-31T12:29:42.111856Z",
     "start_time": "2022-01-31T12:29:42.105588Z"
    }
   },
   "outputs": [],
   "source": [
    "train = tfds.as_numpy(train)\n",
    "test = tfds.as_numpy(test)"
   ]
  },
  {
   "cell_type": "code",
   "execution_count": 13,
   "id": "ce9ad910",
   "metadata": {
    "ExecuteTime": {
     "end_time": "2022-01-31T12:33:06.609275Z",
     "start_time": "2022-01-31T12:31:35.690216Z"
    }
   },
   "outputs": [],
   "source": [
    "X_train, y_train = bm.tf_to_pd_dataframe(train)\n",
    "X_test, y_test = bm.tf_to_pd_dataframe(test)"
   ]
  },
  {
   "cell_type": "markdown",
   "id": "24dc1098",
   "metadata": {
    "ExecuteTime": {
     "end_time": "2022-01-17T19:30:31.644783Z",
     "start_time": "2022-01-17T19:30:31.642162Z"
    }
   },
   "source": [
    "### Let's check if the data is balanced"
   ]
  },
  {
   "cell_type": "markdown",
   "id": "400c7563",
   "metadata": {},
   "source": [
    "**TRAIN SET**"
   ]
  },
  {
   "cell_type": "code",
   "execution_count": 14,
   "id": "4d6e783d",
   "metadata": {
    "ExecuteTime": {
     "end_time": "2022-01-31T12:33:06.623870Z",
     "start_time": "2022-01-31T12:33:06.612029Z"
    }
   },
   "outputs": [
    {
     "data": {
      "text/plain": [
       "0.0    0.502477\n",
       "1.0    0.497523\n",
       "dtype: float64"
      ]
     },
     "execution_count": 14,
     "metadata": {},
     "output_type": "execute_result"
    }
   ],
   "source": [
    "pd.DataFrame(y_train).value_counts() / y_train.shape[0]"
   ]
  },
  {
   "cell_type": "code",
   "execution_count": 15,
   "id": "b6e0bf46",
   "metadata": {
    "ExecuteTime": {
     "end_time": "2022-01-31T12:33:06.738008Z",
     "start_time": "2022-01-31T12:33:06.627501Z"
    }
   },
   "outputs": [
    {
     "data": {
      "image/png": "[encoded data removed]",
      "text/plain": [
       "<Figure size 432x288 with 1 Axes>"
      ]
     },
     "metadata": {
      "needs_background": "light"
     },
     "output_type": "display_data"
    }
   ],
   "source": [
    "sns.countplot(y_train,palette='Blues');"
   ]
  },
  {
   "cell_type": "markdown",
   "id": "e2e5f486",
   "metadata": {},
   "source": [
    "**TEST SET**"
   ]
  },
  {
   "cell_type": "code",
   "execution_count": 16,
   "id": "c034b61c",
   "metadata": {
    "ExecuteTime": {
     "end_time": "2022-01-31T12:33:06.748356Z",
     "start_time": "2022-01-31T12:33:06.740204Z"
    }
   },
   "outputs": [
    {
     "data": {
      "text/plain": [
       "1.0    0.507709\n",
       "0.0    0.492291\n",
       "dtype: float64"
      ]
     },
     "execution_count": 16,
     "metadata": {},
     "output_type": "execute_result"
    }
   ],
   "source": [
    "pd.DataFrame(y_test).value_counts() / y_test.shape[0]"
   ]
  },
  {
   "cell_type": "code",
   "execution_count": 17,
   "id": "f31be1c3",
   "metadata": {
    "ExecuteTime": {
     "end_time": "2022-01-31T12:33:06.826632Z",
     "start_time": "2022-01-31T12:33:06.751176Z"
    }
   },
   "outputs": [
    {
     "data": {
      "image/png": "[encoded data removed]",
      "text/plain": [
       "<Figure size 432x288 with 1 Axes>"
      ]
     },
     "metadata": {
      "needs_background": "light"
     },
     "output_type": "display_data"
    }
   ],
   "source": [
    "sns.countplot(y_test,palette='Blues');"
   ]
  },
  {
   "cell_type": "markdown",
   "id": "00583fea",
   "metadata": {},
   "source": [
    "The data is balanced, if we do a baseline model where all the samples are predicted as 1,the accuracy would be 55%. "
   ]
  },
  {
   "cell_type": "markdown",
   "id": "581bf4f0",
   "metadata": {},
   "source": [
    "## BASELINE MODEL"
   ]
  },
  {
   "cell_type": "code",
   "execution_count": 18,
   "id": "60a3b094",
   "metadata": {
    "ExecuteTime": {
     "end_time": "2022-01-31T12:33:08.899017Z",
     "start_time": "2022-01-31T12:33:06.830016Z"
    }
   },
   "outputs": [],
   "source": [
    "clf = GaussianNB()\n",
    "clf.fit(X_train, y_train)\n",
    "y_pred = clf.predict(X_test)"
   ]
  },
  {
   "cell_type": "code",
   "execution_count": 19,
   "id": "0f52338a",
   "metadata": {
    "ExecuteTime": {
     "end_time": "2022-01-31T12:33:08.906315Z",
     "start_time": "2022-01-31T12:33:08.901155Z"
    }
   },
   "outputs": [
    {
     "data": {
      "text/plain": [
       "0.51431718061674"
      ]
     },
     "execution_count": 19,
     "metadata": {},
     "output_type": "execute_result"
    }
   ],
   "source": [
    "accuracy_score(y_test,y_pred)"
   ]
  },
  {
   "cell_type": "markdown",
   "id": "f3232b1a",
   "metadata": {},
   "source": [
    "The accuracy is really bad - it's the same as saying that the images are always the same or that they are always different."
   ]
  },
  {
   "cell_type": "code",
   "execution_count": null,
   "id": "8cc47b59",
   "metadata": {},
   "outputs": [],
   "source": []
  },
  {
   "cell_type": "code",
   "execution_count": null,
   "id": "63996df8",
   "metadata": {},
   "outputs": [],
   "source": []
  }
 ],
 "metadata": {
  "kernelspec": {
   "display_name": "Python 3 (ipykernel)",
   "language": "python",
   "name": "python3"
  },
  "language_info": {
   "codemirror_mode": {
    "name": "ipython",
    "version": 3
   },
   "file_extension": ".py",
   "mimetype": "text/x-python",
   "name": "python",
   "nbconvert_exporter": "python",
   "pygments_lexer": "ipython3",
   "version": "3.8.12"
  },
  "toc": {
   "base_numbering": 1,
   "nav_menu": {},
   "number_sections": true,
   "sideBar": true,
   "skip_h1_title": false,
   "title_cell": "Table of Contents",
   "title_sidebar": "Contents",
   "toc_cell": false,
   "toc_position": {},
   "toc_section_display": true,
   "toc_window_display": false
  }
 },
 "nbformat": 4,
 "nbformat_minor": 5
}
