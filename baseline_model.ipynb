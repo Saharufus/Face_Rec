{
 "cells": [
  {
   "cell_type": "markdown",
   "id": "87449e51",
   "metadata": {},
   "source": [
    "# BASELINE MODEL"
   ]
  },
  {
   "cell_type": "code",
   "execution_count": 1,
   "id": "52cfdf13",
   "metadata": {
    "ExecuteTime": {
     "end_time": "2022-01-17T19:45:18.904586Z",
     "start_time": "2022-01-17T19:45:14.430477Z"
    }
   },
   "outputs": [],
   "source": [
    "import preprocessing as pp\n",
    "import conf as c\n",
    "import baseline_model as bm\n",
    "import pandas as pd\n",
    "import tensorflow as tf\n",
    "import os\n",
    "import numpy as np\n",
    "import tensorflow_datasets as tfds\n",
    "from sklearn.naive_bayes import BernoulliNB\n",
    "from sklearn.metrics import accuracy_score\n",
    "import seaborn as sns\n",
    "import warnings\n",
    "warnings.filterwarnings('ignore')"
   ]
  },
  {
   "cell_type": "markdown",
   "id": "d625b474",
   "metadata": {},
   "source": [
    "### We create a tensorflow dataset with the data from the different folders"
   ]
  },
  {
   "cell_type": "code",
   "execution_count": 2,
   "id": "c2ff2492",
   "metadata": {
    "ExecuteTime": {
     "end_time": "2022-01-17T19:45:19.006831Z",
     "start_time": "2022-01-17T19:45:18.907050Z"
    }
   },
   "outputs": [
    {
     "name": "stderr",
     "output_type": "stream",
     "text": [
      "2022-01-17 20:45:18.910024: I tensorflow/core/platform/cpu_feature_guard.cc:151] This TensorFlow binary is optimized with oneAPI Deep Neural Network Library (oneDNN) to use the following CPU instructions in performance-critical operations:  AVX2 FMA\n",
      "To enable them in other operations, rebuild TensorFlow with the appropriate compiler flags.\n"
     ]
    }
   ],
   "source": [
    "anchor = tf.data.Dataset.list_files(os.path.join(c.ANC_PATH, '*.jpg')).take(100)\n",
    "positive = tf.data.Dataset.list_files(os.path.join(c.POS_PATH, '*.jpg')).take(100)\n",
    "negative = tf.data.Dataset.list_files(os.path.join(c.NEG_PATH, '*.jpg')).take(100);"
   ]
  },
  {
   "cell_type": "code",
   "execution_count": 3,
   "id": "c2a6acb7",
   "metadata": {
    "ExecuteTime": {
     "end_time": "2022-01-17T19:45:19.123689Z",
     "start_time": "2022-01-17T19:45:19.009276Z"
    }
   },
   "outputs": [],
   "source": [
    "data = pp.create_dataset(anchor, positive, negative)\n",
    "train, test = pp.split_train_test(data, 0.8, batch_size=1)"
   ]
  },
  {
   "cell_type": "markdown",
   "id": "b0c0b87d",
   "metadata": {},
   "source": [
    "### We transform the TF dataframe to a pandas dataframe"
   ]
  },
  {
   "cell_type": "code",
   "execution_count": 4,
   "id": "1b9c3f66",
   "metadata": {
    "ExecuteTime": {
     "end_time": "2022-01-17T19:45:19.129620Z",
     "start_time": "2022-01-17T19:45:19.125297Z"
    }
   },
   "outputs": [],
   "source": [
    "train = tfds.as_numpy(train)\n",
    "test = tfds.as_numpy(test)"
   ]
  },
  {
   "cell_type": "code",
   "execution_count": 5,
   "id": "6914403b",
   "metadata": {
    "ExecuteTime": {
     "end_time": "2022-01-17T19:45:22.874930Z",
     "start_time": "2022-01-17T19:45:19.133705Z"
    }
   },
   "outputs": [],
   "source": [
    "X_train, y_train = bm.tf_to_pd_dataframe(train)\n",
    "X_test, y_test = bm.tf_to_pd_dataframe(test)"
   ]
  },
  {
   "cell_type": "markdown",
   "id": "9a8ee075",
   "metadata": {
    "ExecuteTime": {
     "end_time": "2022-01-17T19:30:31.644783Z",
     "start_time": "2022-01-17T19:30:31.642162Z"
    }
   },
   "source": [
    "### Let's check if the data is balanced"
   ]
  },
  {
   "cell_type": "markdown",
   "id": "eb205fca",
   "metadata": {},
   "source": [
    "**TRAIN SET**"
   ]
  },
  {
   "cell_type": "code",
   "execution_count": 6,
   "id": "eed668c3",
   "metadata": {
    "ExecuteTime": {
     "end_time": "2022-01-17T19:45:22.888856Z",
     "start_time": "2022-01-17T19:45:22.879002Z"
    }
   },
   "outputs": [
    {
     "data": {
      "text/plain": [
       "1.0    0.50625\n",
       "0.0    0.49375\n",
       "dtype: float64"
      ]
     },
     "execution_count": 6,
     "metadata": {},
     "output_type": "execute_result"
    }
   ],
   "source": [
    "pd.DataFrame(y_train).value_counts() / y_train.shape[0]"
   ]
  },
  {
   "cell_type": "code",
   "execution_count": 7,
   "id": "40ce5a27",
   "metadata": {
    "ExecuteTime": {
     "end_time": "2022-01-17T19:45:23.010750Z",
     "start_time": "2022-01-17T19:45:22.891015Z"
    }
   },
   "outputs": [
    {
     "data": {
      "image/png": "[encoded data removed]",
      "text/plain": [
       "<Figure size 432x288 with 1 Axes>"
      ]
     },
     "metadata": {
      "needs_background": "light"
     },
     "output_type": "display_data"
    }
   ],
   "source": [
    "sns.countplot(y_train,palette='Blues');"
   ]
  },
  {
   "cell_type": "markdown",
   "id": "64e41817",
   "metadata": {},
   "source": [
    "**TEST SET**"
   ]
  },
  {
   "cell_type": "code",
   "execution_count": 8,
   "id": "53ba76d7",
   "metadata": {
    "ExecuteTime": {
     "end_time": "2022-01-17T19:45:23.020873Z",
     "start_time": "2022-01-17T19:45:23.013105Z"
    }
   },
   "outputs": [
    {
     "data": {
      "text/plain": [
       "1.0    0.525\n",
       "0.0    0.475\n",
       "dtype: float64"
      ]
     },
     "execution_count": 8,
     "metadata": {},
     "output_type": "execute_result"
    }
   ],
   "source": [
    "pd.DataFrame(y_test).value_counts() / y_test.shape[0]"
   ]
  },
  {
   "cell_type": "code",
   "execution_count": 9,
   "id": "d42a0e84",
   "metadata": {
    "ExecuteTime": {
     "end_time": "2022-01-17T19:45:23.118508Z",
     "start_time": "2022-01-17T19:45:23.022658Z"
    }
   },
   "outputs": [
    {
     "data": {
      "image/png": "[encoded data removed]",
      "text/plain": [
       "<Figure size 432x288 with 1 Axes>"
      ]
     },
     "metadata": {
      "needs_background": "light"
     },
     "output_type": "display_data"
    }
   ],
   "source": [
    "sns.countplot(y_test,palette='Blues');"
   ]
  },
  {
   "cell_type": "markdown",
   "id": "c7b25e2d",
   "metadata": {},
   "source": [
    "The data is balanced, if we do a baseline model where all the samples are predicted as 1,the accuracy would be 55%. "
   ]
  },
  {
   "cell_type": "markdown",
   "id": "016fc5e3",
   "metadata": {},
   "source": [
    "## BASELINE MODEL"
   ]
  },
  {
   "cell_type": "code",
   "execution_count": 10,
   "id": "6a84b4b6",
   "metadata": {
    "ExecuteTime": {
     "end_time": "2022-01-17T19:45:23.452167Z",
     "start_time": "2022-01-17T19:45:23.120508Z"
    }
   },
   "outputs": [],
   "source": [
    "clf = BernoulliNB(binarize=0)\n",
    "clf.fit(X_train, y_train)\n",
    "y_pred = clf.predict(X_test)"
   ]
  },
  {
   "cell_type": "code",
   "execution_count": 11,
   "id": "4905cdc9",
   "metadata": {
    "ExecuteTime": {
     "end_time": "2022-01-17T19:45:23.459574Z",
     "start_time": "2022-01-17T19:45:23.453906Z"
    }
   },
   "outputs": [
    {
     "data": {
      "text/plain": [
       "0.725"
      ]
     },
     "execution_count": 11,
     "metadata": {},
     "output_type": "execute_result"
    }
   ],
   "source": [
    "accuracy_score(y_test,y_pred)"
   ]
  },
  {
   "cell_type": "markdown",
   "id": "4b9ef51b",
   "metadata": {},
   "source": [
    "The accuracy is better than the random guess"
   ]
  },
  {
   "cell_type": "code",
   "execution_count": null,
   "id": "f6ae0b12",
   "metadata": {},
   "outputs": [],
   "source": []
  }
 ],
 "metadata": {
  "kernelspec": {
   "display_name": "Python 3 (ipykernel)",
   "language": "python",
   "name": "python3"
  },
  "language_info": {
   "codemirror_mode": {
    "name": "ipython",
    "version": 3
   },
   "file_extension": ".py",
   "mimetype": "text/x-python",
   "name": "python",
   "nbconvert_exporter": "python",
   "pygments_lexer": "ipython3",
   "version": "3.8.12"
  },
  "toc": {
   "base_numbering": 1,
   "nav_menu": {},
   "number_sections": true,
   "sideBar": true,
   "skip_h1_title": false,
   "title_cell": "Table of Contents",
   "title_sidebar": "Contents",
   "toc_cell": false,
   "toc_position": {},
   "toc_section_display": true,
   "toc_window_display": false
  }
 },
 "nbformat": 4,
 "nbformat_minor": 5
}
